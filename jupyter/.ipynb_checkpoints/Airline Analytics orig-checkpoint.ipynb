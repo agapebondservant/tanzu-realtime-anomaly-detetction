{
 "cells": [
  {
   "cell_type": "markdown",
   "id": "4f3fb123",
   "metadata": {},
   "source": [
    "### Imports"
   ]
  },
  {
   "cell_type": "code",
   "execution_count": 341,
   "id": "d3dd4120",
   "metadata": {},
   "outputs": [
    {
     "name": "stdout",
     "output_type": "stream",
     "text": [
      "Requirement already satisfied: matplotlib in /Users/oawofolu/opt/anaconda3/lib/python3.8/site-packages (3.5.1)\n",
      "Requirement already satisfied: pillow>=6.2.0 in /Users/oawofolu/opt/anaconda3/lib/python3.8/site-packages (from matplotlib) (9.0.1)\n",
      "Requirement already satisfied: kiwisolver>=1.0.1 in /Users/oawofolu/opt/anaconda3/lib/python3.8/site-packages (from matplotlib) (1.3.2)\n",
      "Requirement already satisfied: python-dateutil>=2.7 in /Users/oawofolu/opt/anaconda3/lib/python3.8/site-packages (from matplotlib) (2.8.2)\n",
      "Requirement already satisfied: fonttools>=4.22.0 in /Users/oawofolu/opt/anaconda3/lib/python3.8/site-packages (from matplotlib) (4.25.0)\n",
      "Requirement already satisfied: cycler>=0.10 in /Users/oawofolu/opt/anaconda3/lib/python3.8/site-packages (from matplotlib) (0.11.0)\n",
      "Requirement already satisfied: packaging>=20.0 in /Users/oawofolu/opt/anaconda3/lib/python3.8/site-packages (from matplotlib) (21.3)\n",
      "Requirement already satisfied: pyparsing>=2.2.1 in /Users/oawofolu/opt/anaconda3/lib/python3.8/site-packages (from matplotlib) (3.0.4)\n",
      "Requirement already satisfied: numpy>=1.17 in /Users/oawofolu/opt/anaconda3/lib/python3.8/site-packages (from matplotlib) (1.21.5)\n",
      "Requirement already satisfied: six>=1.5 in /Users/oawofolu/opt/anaconda3/lib/python3.8/site-packages (from python-dateutil>=2.7->matplotlib) (1.16.0)\n",
      "Note: you may need to restart the kernel to use updated packages.\n",
      "Requirement already satisfied: prophet in /Users/oawofolu/opt/anaconda3/lib/python3.8/site-packages (1.1)\n",
      "Requirement already satisfied: tqdm>=4.36.1 in /Users/oawofolu/opt/anaconda3/lib/python3.8/site-packages (from prophet) (4.63.0)\n",
      "Requirement already satisfied: convertdate>=2.1.2 in /Users/oawofolu/opt/anaconda3/lib/python3.8/site-packages (from prophet) (2.4.0)\n",
      "Requirement already satisfied: matplotlib>=2.0.0 in /Users/oawofolu/opt/anaconda3/lib/python3.8/site-packages (from prophet) (3.5.1)\n",
      "Requirement already satisfied: cmdstanpy>=1.0.1 in /Users/oawofolu/opt/anaconda3/lib/python3.8/site-packages (from prophet) (1.0.4)\n",
      "Requirement already satisfied: numpy>=1.15.4 in /Users/oawofolu/opt/anaconda3/lib/python3.8/site-packages (from prophet) (1.21.5)\n",
      "Requirement already satisfied: holidays>=0.13 in /Users/oawofolu/opt/anaconda3/lib/python3.8/site-packages (from prophet) (0.14.2)\n",
      "Requirement already satisfied: setuptools>=42 in /Users/oawofolu/opt/anaconda3/lib/python3.8/site-packages (from prophet) (61.2.0)\n",
      "Requirement already satisfied: python-dateutil>=2.8.0 in /Users/oawofolu/opt/anaconda3/lib/python3.8/site-packages (from prophet) (2.8.2)\n",
      "Requirement already satisfied: wheel>=0.37.0 in /Users/oawofolu/opt/anaconda3/lib/python3.8/site-packages (from prophet) (0.37.1)\n",
      "Requirement already satisfied: setuptools-git>=1.2 in /Users/oawofolu/opt/anaconda3/lib/python3.8/site-packages (from prophet) (1.2)\n",
      "Requirement already satisfied: Cython>=0.22 in /Users/oawofolu/opt/anaconda3/lib/python3.8/site-packages (from prophet) (0.29.28)\n",
      "Requirement already satisfied: pandas>=1.0.4 in /Users/oawofolu/opt/anaconda3/lib/python3.8/site-packages (from prophet) (1.4.1)\n",
      "Requirement already satisfied: LunarCalendar>=0.0.9 in /Users/oawofolu/opt/anaconda3/lib/python3.8/site-packages (from prophet) (0.0.9)\n",
      "Requirement already satisfied: ujson in /Users/oawofolu/opt/anaconda3/lib/python3.8/site-packages (from cmdstanpy>=1.0.1->prophet) (5.1.0)\n",
      "Requirement already satisfied: pymeeus<=1,>=0.3.13 in /Users/oawofolu/opt/anaconda3/lib/python3.8/site-packages (from convertdate>=2.1.2->prophet) (0.5.11)\n",
      "Requirement already satisfied: korean-lunar-calendar in /Users/oawofolu/opt/anaconda3/lib/python3.8/site-packages (from holidays>=0.13->prophet) (0.2.1)\n",
      "Requirement already satisfied: hijri-converter in /Users/oawofolu/opt/anaconda3/lib/python3.8/site-packages (from holidays>=0.13->prophet) (2.2.4)\n",
      "Requirement already satisfied: pytz in /Users/oawofolu/opt/anaconda3/lib/python3.8/site-packages (from LunarCalendar>=0.0.9->prophet) (2021.3)\n",
      "Requirement already satisfied: ephem>=3.7.5.3 in /Users/oawofolu/opt/anaconda3/lib/python3.8/site-packages (from LunarCalendar>=0.0.9->prophet) (4.1.3)\n",
      "Requirement already satisfied: cycler>=0.10 in /Users/oawofolu/opt/anaconda3/lib/python3.8/site-packages (from matplotlib>=2.0.0->prophet) (0.11.0)\n",
      "Requirement already satisfied: packaging>=20.0 in /Users/oawofolu/opt/anaconda3/lib/python3.8/site-packages (from matplotlib>=2.0.0->prophet) (21.3)\n",
      "Requirement already satisfied: pyparsing>=2.2.1 in /Users/oawofolu/opt/anaconda3/lib/python3.8/site-packages (from matplotlib>=2.0.0->prophet) (3.0.4)\n",
      "Requirement already satisfied: fonttools>=4.22.0 in /Users/oawofolu/opt/anaconda3/lib/python3.8/site-packages (from matplotlib>=2.0.0->prophet) (4.25.0)\n",
      "Requirement already satisfied: kiwisolver>=1.0.1 in /Users/oawofolu/opt/anaconda3/lib/python3.8/site-packages (from matplotlib>=2.0.0->prophet) (1.3.2)\n",
      "Requirement already satisfied: pillow>=6.2.0 in /Users/oawofolu/opt/anaconda3/lib/python3.8/site-packages (from matplotlib>=2.0.0->prophet) (9.0.1)\n",
      "Requirement already satisfied: six>=1.5 in /Users/oawofolu/opt/anaconda3/lib/python3.8/site-packages (from python-dateutil>=2.8.0->prophet) (1.16.0)\n",
      "Note: you may need to restart the kernel to use updated packages.\n"
     ]
    }
   ],
   "source": [
    "%pip install matplotlib\n",
    "%pip install prophet\n",
    "\n",
    "import pandas as pd\n",
    "import numpy as np\n",
    "import matplotlib.pyplot as plt\n",
    "from statsmodels.tsa.seasonal import seasonal_decompose\n",
    "from pylab import rcParams\n",
    "from datetime import datetime\n",
    "from statsmodels.tsa.holtwinters import SimpleExpSmoothing, ExponentialSmoothing\n",
    "from sklearn.metrics import mean_squared_error, mean_absolute_error, median_absolute_error\n",
    "from statsmodels.tsa.statespace.tools import diff\n",
    "from statsmodels.tsa.stattools import acovf, acf, pacf, pacf_yw, pacf_ols\n",
    "from pandas.plotting import lag_plot\n",
    "from statsmodels.graphics.tsaplots import plot_acf, plot_pacf, month_plot, quarter_plot\n",
    "from statsmodels.tsa.stattools import adfuller\n",
    "from statsmodels.tools.eval_measures import mse, rmse, meanabs, aic, bic\n",
    "from pmdarima import auto_arima\n",
    "from prophet import Prophet\n",
    "from statsmodels.tsa.seasonal import seasonal_decompose\n",
    "from datetime import datetime, timedelta\n",
    "from sklearn.preprocessing import StandardScaler\n",
    "from sklearn.compose import ColumnTransformer\n",
    "from statsmodels.tsa.arima.model import ARIMA\n",
    "from statistics import median,mean\n",
    "import matplotlib.ticker as ticker\n",
    "import pytz\n",
    "import warnings\n",
    "import scipy.stats as st\n",
    "import math\n",
    "from pylab import rcParams\n",
    "warnings.filterwarnings('ignore')\n",
    "\n",
    "%matplotlib inline"
   ]
  },
  {
   "cell_type": "markdown",
   "id": "59bc0276",
   "metadata": {},
   "source": [
    "### Ingest Data"
   ]
  },
  {
   "cell_type": "code",
   "execution_count": 342,
   "id": "b2727113",
   "metadata": {
    "scrolled": true
   },
   "outputs": [
    {
     "data": {
      "text/html": [
       "<div>\n",
       "<style scoped>\n",
       "    .dataframe tbody tr th:only-of-type {\n",
       "        vertical-align: middle;\n",
       "    }\n",
       "\n",
       "    .dataframe tbody tr th {\n",
       "        vertical-align: top;\n",
       "    }\n",
       "\n",
       "    .dataframe thead th {\n",
       "        text-align: right;\n",
       "    }\n",
       "</style>\n",
       "<table border=\"1\" class=\"dataframe\">\n",
       "  <thead>\n",
       "    <tr style=\"text-align: right;\">\n",
       "      <th></th>\n",
       "      <th>tweet_id</th>\n",
       "      <th>airline_sentiment</th>\n",
       "      <th>airline_sentiment_confidence</th>\n",
       "      <th>negativereason</th>\n",
       "      <th>negativereason_confidence</th>\n",
       "      <th>airline</th>\n",
       "      <th>airline_sentiment_gold</th>\n",
       "      <th>name</th>\n",
       "      <th>negativereason_gold</th>\n",
       "      <th>retweet_count</th>\n",
       "      <th>text</th>\n",
       "      <th>tweet_coord</th>\n",
       "      <th>tweet_location</th>\n",
       "      <th>user_timezone</th>\n",
       "    </tr>\n",
       "    <tr>\n",
       "      <th>tweet_created</th>\n",
       "      <th></th>\n",
       "      <th></th>\n",
       "      <th></th>\n",
       "      <th></th>\n",
       "      <th></th>\n",
       "      <th></th>\n",
       "      <th></th>\n",
       "      <th></th>\n",
       "      <th></th>\n",
       "      <th></th>\n",
       "      <th></th>\n",
       "      <th></th>\n",
       "      <th></th>\n",
       "      <th></th>\n",
       "    </tr>\n",
       "  </thead>\n",
       "  <tbody>\n",
       "    <tr>\n",
       "      <th>2015-02-24 11:35:52-08:00</th>\n",
       "      <td>570306133677760513</td>\n",
       "      <td>neutral</td>\n",
       "      <td>1.0000</td>\n",
       "      <td>NaN</td>\n",
       "      <td>NaN</td>\n",
       "      <td>Virgin America</td>\n",
       "      <td>NaN</td>\n",
       "      <td>cairdin</td>\n",
       "      <td>NaN</td>\n",
       "      <td>0</td>\n",
       "      <td>@VirginAmerica What @dhepburn said.</td>\n",
       "      <td>NaN</td>\n",
       "      <td>NaN</td>\n",
       "      <td>Eastern Time (US &amp; Canada)</td>\n",
       "    </tr>\n",
       "    <tr>\n",
       "      <th>2015-02-24 11:15:59-08:00</th>\n",
       "      <td>570301130888122368</td>\n",
       "      <td>positive</td>\n",
       "      <td>0.3486</td>\n",
       "      <td>NaN</td>\n",
       "      <td>0.0000</td>\n",
       "      <td>Virgin America</td>\n",
       "      <td>NaN</td>\n",
       "      <td>jnardino</td>\n",
       "      <td>NaN</td>\n",
       "      <td>0</td>\n",
       "      <td>@VirginAmerica plus you've added commercials t...</td>\n",
       "      <td>NaN</td>\n",
       "      <td>NaN</td>\n",
       "      <td>Pacific Time (US &amp; Canada)</td>\n",
       "    </tr>\n",
       "    <tr>\n",
       "      <th>2015-02-24 11:15:48-08:00</th>\n",
       "      <td>570301083672813571</td>\n",
       "      <td>neutral</td>\n",
       "      <td>0.6837</td>\n",
       "      <td>NaN</td>\n",
       "      <td>NaN</td>\n",
       "      <td>Virgin America</td>\n",
       "      <td>NaN</td>\n",
       "      <td>yvonnalynn</td>\n",
       "      <td>NaN</td>\n",
       "      <td>0</td>\n",
       "      <td>@VirginAmerica I didn't today... Must mean I n...</td>\n",
       "      <td>NaN</td>\n",
       "      <td>Lets Play</td>\n",
       "      <td>Central Time (US &amp; Canada)</td>\n",
       "    </tr>\n",
       "    <tr>\n",
       "      <th>2015-02-24 11:15:36-08:00</th>\n",
       "      <td>570301031407624196</td>\n",
       "      <td>negative</td>\n",
       "      <td>1.0000</td>\n",
       "      <td>Bad Flight</td>\n",
       "      <td>0.7033</td>\n",
       "      <td>Virgin America</td>\n",
       "      <td>NaN</td>\n",
       "      <td>jnardino</td>\n",
       "      <td>NaN</td>\n",
       "      <td>0</td>\n",
       "      <td>@VirginAmerica it's really aggressive to blast...</td>\n",
       "      <td>NaN</td>\n",
       "      <td>NaN</td>\n",
       "      <td>Pacific Time (US &amp; Canada)</td>\n",
       "    </tr>\n",
       "    <tr>\n",
       "      <th>2015-02-24 11:14:45-08:00</th>\n",
       "      <td>570300817074462722</td>\n",
       "      <td>negative</td>\n",
       "      <td>1.0000</td>\n",
       "      <td>Can't Tell</td>\n",
       "      <td>1.0000</td>\n",
       "      <td>Virgin America</td>\n",
       "      <td>NaN</td>\n",
       "      <td>jnardino</td>\n",
       "      <td>NaN</td>\n",
       "      <td>0</td>\n",
       "      <td>@VirginAmerica and it's a really big bad thing...</td>\n",
       "      <td>NaN</td>\n",
       "      <td>NaN</td>\n",
       "      <td>Pacific Time (US &amp; Canada)</td>\n",
       "    </tr>\n",
       "    <tr>\n",
       "      <th>...</th>\n",
       "      <td>...</td>\n",
       "      <td>...</td>\n",
       "      <td>...</td>\n",
       "      <td>...</td>\n",
       "      <td>...</td>\n",
       "      <td>...</td>\n",
       "      <td>...</td>\n",
       "      <td>...</td>\n",
       "      <td>...</td>\n",
       "      <td>...</td>\n",
       "      <td>...</td>\n",
       "      <td>...</td>\n",
       "      <td>...</td>\n",
       "      <td>...</td>\n",
       "    </tr>\n",
       "    <tr>\n",
       "      <th>2015-02-22 12:01:01-08:00</th>\n",
       "      <td>569587686496825344</td>\n",
       "      <td>positive</td>\n",
       "      <td>0.3487</td>\n",
       "      <td>NaN</td>\n",
       "      <td>0.0000</td>\n",
       "      <td>American</td>\n",
       "      <td>NaN</td>\n",
       "      <td>KristenReenders</td>\n",
       "      <td>NaN</td>\n",
       "      <td>0</td>\n",
       "      <td>@AmericanAir thank you we got on a different f...</td>\n",
       "      <td>NaN</td>\n",
       "      <td>NaN</td>\n",
       "      <td>NaN</td>\n",
       "    </tr>\n",
       "    <tr>\n",
       "      <th>2015-02-22 11:59:46-08:00</th>\n",
       "      <td>569587371693355008</td>\n",
       "      <td>negative</td>\n",
       "      <td>1.0000</td>\n",
       "      <td>Customer Service Issue</td>\n",
       "      <td>1.0000</td>\n",
       "      <td>American</td>\n",
       "      <td>NaN</td>\n",
       "      <td>itsropes</td>\n",
       "      <td>NaN</td>\n",
       "      <td>0</td>\n",
       "      <td>@AmericanAir leaving over 20 minutes Late Flig...</td>\n",
       "      <td>NaN</td>\n",
       "      <td>Texas</td>\n",
       "      <td>NaN</td>\n",
       "    </tr>\n",
       "    <tr>\n",
       "      <th>2015-02-22 11:59:15-08:00</th>\n",
       "      <td>569587242672398336</td>\n",
       "      <td>neutral</td>\n",
       "      <td>1.0000</td>\n",
       "      <td>NaN</td>\n",
       "      <td>NaN</td>\n",
       "      <td>American</td>\n",
       "      <td>NaN</td>\n",
       "      <td>sanyabun</td>\n",
       "      <td>NaN</td>\n",
       "      <td>0</td>\n",
       "      <td>@AmericanAir Please bring American Airlines to...</td>\n",
       "      <td>NaN</td>\n",
       "      <td>Nigeria,lagos</td>\n",
       "      <td>NaN</td>\n",
       "    </tr>\n",
       "    <tr>\n",
       "      <th>2015-02-22 11:59:02-08:00</th>\n",
       "      <td>569587188687634433</td>\n",
       "      <td>negative</td>\n",
       "      <td>1.0000</td>\n",
       "      <td>Customer Service Issue</td>\n",
       "      <td>0.6659</td>\n",
       "      <td>American</td>\n",
       "      <td>NaN</td>\n",
       "      <td>SraJackson</td>\n",
       "      <td>NaN</td>\n",
       "      <td>0</td>\n",
       "      <td>@AmericanAir you have my money, you change my ...</td>\n",
       "      <td>NaN</td>\n",
       "      <td>New Jersey</td>\n",
       "      <td>Eastern Time (US &amp; Canada)</td>\n",
       "    </tr>\n",
       "    <tr>\n",
       "      <th>2015-02-22 11:58:51-08:00</th>\n",
       "      <td>569587140490866689</td>\n",
       "      <td>neutral</td>\n",
       "      <td>0.6771</td>\n",
       "      <td>NaN</td>\n",
       "      <td>0.0000</td>\n",
       "      <td>American</td>\n",
       "      <td>NaN</td>\n",
       "      <td>daviddtwu</td>\n",
       "      <td>NaN</td>\n",
       "      <td>0</td>\n",
       "      <td>@AmericanAir we have 8 ppl so we need 2 know h...</td>\n",
       "      <td>NaN</td>\n",
       "      <td>dallas, TX</td>\n",
       "      <td>NaN</td>\n",
       "    </tr>\n",
       "  </tbody>\n",
       "</table>\n",
       "<p>14640 rows × 14 columns</p>\n",
       "</div>"
      ],
      "text/plain": [
       "                                     tweet_id airline_sentiment  \\\n",
       "tweet_created                                                     \n",
       "2015-02-24 11:35:52-08:00  570306133677760513           neutral   \n",
       "2015-02-24 11:15:59-08:00  570301130888122368          positive   \n",
       "2015-02-24 11:15:48-08:00  570301083672813571           neutral   \n",
       "2015-02-24 11:15:36-08:00  570301031407624196          negative   \n",
       "2015-02-24 11:14:45-08:00  570300817074462722          negative   \n",
       "...                                       ...               ...   \n",
       "2015-02-22 12:01:01-08:00  569587686496825344          positive   \n",
       "2015-02-22 11:59:46-08:00  569587371693355008          negative   \n",
       "2015-02-22 11:59:15-08:00  569587242672398336           neutral   \n",
       "2015-02-22 11:59:02-08:00  569587188687634433          negative   \n",
       "2015-02-22 11:58:51-08:00  569587140490866689           neutral   \n",
       "\n",
       "                           airline_sentiment_confidence  \\\n",
       "tweet_created                                             \n",
       "2015-02-24 11:35:52-08:00                        1.0000   \n",
       "2015-02-24 11:15:59-08:00                        0.3486   \n",
       "2015-02-24 11:15:48-08:00                        0.6837   \n",
       "2015-02-24 11:15:36-08:00                        1.0000   \n",
       "2015-02-24 11:14:45-08:00                        1.0000   \n",
       "...                                                 ...   \n",
       "2015-02-22 12:01:01-08:00                        0.3487   \n",
       "2015-02-22 11:59:46-08:00                        1.0000   \n",
       "2015-02-22 11:59:15-08:00                        1.0000   \n",
       "2015-02-22 11:59:02-08:00                        1.0000   \n",
       "2015-02-22 11:58:51-08:00                        0.6771   \n",
       "\n",
       "                                   negativereason  negativereason_confidence  \\\n",
       "tweet_created                                                                  \n",
       "2015-02-24 11:35:52-08:00                     NaN                        NaN   \n",
       "2015-02-24 11:15:59-08:00                     NaN                     0.0000   \n",
       "2015-02-24 11:15:48-08:00                     NaN                        NaN   \n",
       "2015-02-24 11:15:36-08:00              Bad Flight                     0.7033   \n",
       "2015-02-24 11:14:45-08:00              Can't Tell                     1.0000   \n",
       "...                                           ...                        ...   \n",
       "2015-02-22 12:01:01-08:00                     NaN                     0.0000   \n",
       "2015-02-22 11:59:46-08:00  Customer Service Issue                     1.0000   \n",
       "2015-02-22 11:59:15-08:00                     NaN                        NaN   \n",
       "2015-02-22 11:59:02-08:00  Customer Service Issue                     0.6659   \n",
       "2015-02-22 11:58:51-08:00                     NaN                     0.0000   \n",
       "\n",
       "                                  airline airline_sentiment_gold  \\\n",
       "tweet_created                                                      \n",
       "2015-02-24 11:35:52-08:00  Virgin America                    NaN   \n",
       "2015-02-24 11:15:59-08:00  Virgin America                    NaN   \n",
       "2015-02-24 11:15:48-08:00  Virgin America                    NaN   \n",
       "2015-02-24 11:15:36-08:00  Virgin America                    NaN   \n",
       "2015-02-24 11:14:45-08:00  Virgin America                    NaN   \n",
       "...                                   ...                    ...   \n",
       "2015-02-22 12:01:01-08:00        American                    NaN   \n",
       "2015-02-22 11:59:46-08:00        American                    NaN   \n",
       "2015-02-22 11:59:15-08:00        American                    NaN   \n",
       "2015-02-22 11:59:02-08:00        American                    NaN   \n",
       "2015-02-22 11:58:51-08:00        American                    NaN   \n",
       "\n",
       "                                      name negativereason_gold  retweet_count  \\\n",
       "tweet_created                                                                   \n",
       "2015-02-24 11:35:52-08:00          cairdin                 NaN              0   \n",
       "2015-02-24 11:15:59-08:00         jnardino                 NaN              0   \n",
       "2015-02-24 11:15:48-08:00       yvonnalynn                 NaN              0   \n",
       "2015-02-24 11:15:36-08:00         jnardino                 NaN              0   \n",
       "2015-02-24 11:14:45-08:00         jnardino                 NaN              0   \n",
       "...                                    ...                 ...            ...   \n",
       "2015-02-22 12:01:01-08:00  KristenReenders                 NaN              0   \n",
       "2015-02-22 11:59:46-08:00         itsropes                 NaN              0   \n",
       "2015-02-22 11:59:15-08:00         sanyabun                 NaN              0   \n",
       "2015-02-22 11:59:02-08:00       SraJackson                 NaN              0   \n",
       "2015-02-22 11:58:51-08:00        daviddtwu                 NaN              0   \n",
       "\n",
       "                                                                        text  \\\n",
       "tweet_created                                                                  \n",
       "2015-02-24 11:35:52-08:00                @VirginAmerica What @dhepburn said.   \n",
       "2015-02-24 11:15:59-08:00  @VirginAmerica plus you've added commercials t...   \n",
       "2015-02-24 11:15:48-08:00  @VirginAmerica I didn't today... Must mean I n...   \n",
       "2015-02-24 11:15:36-08:00  @VirginAmerica it's really aggressive to blast...   \n",
       "2015-02-24 11:14:45-08:00  @VirginAmerica and it's a really big bad thing...   \n",
       "...                                                                      ...   \n",
       "2015-02-22 12:01:01-08:00  @AmericanAir thank you we got on a different f...   \n",
       "2015-02-22 11:59:46-08:00  @AmericanAir leaving over 20 minutes Late Flig...   \n",
       "2015-02-22 11:59:15-08:00  @AmericanAir Please bring American Airlines to...   \n",
       "2015-02-22 11:59:02-08:00  @AmericanAir you have my money, you change my ...   \n",
       "2015-02-22 11:58:51-08:00  @AmericanAir we have 8 ppl so we need 2 know h...   \n",
       "\n",
       "                          tweet_coord tweet_location  \\\n",
       "tweet_created                                          \n",
       "2015-02-24 11:35:52-08:00         NaN            NaN   \n",
       "2015-02-24 11:15:59-08:00         NaN            NaN   \n",
       "2015-02-24 11:15:48-08:00         NaN      Lets Play   \n",
       "2015-02-24 11:15:36-08:00         NaN            NaN   \n",
       "2015-02-24 11:14:45-08:00         NaN            NaN   \n",
       "...                               ...            ...   \n",
       "2015-02-22 12:01:01-08:00         NaN            NaN   \n",
       "2015-02-22 11:59:46-08:00         NaN          Texas   \n",
       "2015-02-22 11:59:15-08:00         NaN  Nigeria,lagos   \n",
       "2015-02-22 11:59:02-08:00         NaN     New Jersey   \n",
       "2015-02-22 11:58:51-08:00         NaN     dallas, TX   \n",
       "\n",
       "                                        user_timezone  \n",
       "tweet_created                                          \n",
       "2015-02-24 11:35:52-08:00  Eastern Time (US & Canada)  \n",
       "2015-02-24 11:15:59-08:00  Pacific Time (US & Canada)  \n",
       "2015-02-24 11:15:48-08:00  Central Time (US & Canada)  \n",
       "2015-02-24 11:15:36-08:00  Pacific Time (US & Canada)  \n",
       "2015-02-24 11:14:45-08:00  Pacific Time (US & Canada)  \n",
       "...                                               ...  \n",
       "2015-02-22 12:01:01-08:00                         NaN  \n",
       "2015-02-22 11:59:46-08:00                         NaN  \n",
       "2015-02-22 11:59:15-08:00                         NaN  \n",
       "2015-02-22 11:59:02-08:00  Eastern Time (US & Canada)  \n",
       "2015-02-22 11:58:51-08:00                         NaN  \n",
       "\n",
       "[14640 rows x 14 columns]"
      ]
     },
     "execution_count": 342,
     "metadata": {},
     "output_type": "execute_result"
    }
   ],
   "source": [
    "data = pd.read_csv(\"../data/airlinetweets.csv\", parse_dates=['tweet_created'], index_col=['tweet_created'])\n",
    "data"
   ]
  },
  {
   "cell_type": "markdown",
   "id": "645ed43d",
   "metadata": {},
   "source": [
    "## Data Exploratory Analysis"
   ]
  },
  {
   "cell_type": "code",
   "execution_count": 343,
   "id": "930001ca",
   "metadata": {},
   "outputs": [
    {
     "data": {
      "text/html": [
       "<div>\n",
       "<style scoped>\n",
       "    .dataframe tbody tr th:only-of-type {\n",
       "        vertical-align: middle;\n",
       "    }\n",
       "\n",
       "    .dataframe tbody tr th {\n",
       "        vertical-align: top;\n",
       "    }\n",
       "\n",
       "    .dataframe thead tr th {\n",
       "        text-align: left;\n",
       "    }\n",
       "\n",
       "    .dataframe thead tr:last-of-type th {\n",
       "        text-align: right;\n",
       "    }\n",
       "</style>\n",
       "<table border=\"1\" class=\"dataframe\">\n",
       "  <thead>\n",
       "    <tr>\n",
       "      <th></th>\n",
       "      <th colspan=\"3\" halign=\"left\">tweet_id</th>\n",
       "      <th>total</th>\n",
       "    </tr>\n",
       "    <tr>\n",
       "      <th>airline_sentiment</th>\n",
       "      <th>negative</th>\n",
       "      <th>neutral</th>\n",
       "      <th>positive</th>\n",
       "      <th></th>\n",
       "    </tr>\n",
       "    <tr>\n",
       "      <th>tweet_created</th>\n",
       "      <th></th>\n",
       "      <th></th>\n",
       "      <th></th>\n",
       "      <th></th>\n",
       "    </tr>\n",
       "  </thead>\n",
       "  <tbody>\n",
       "    <tr>\n",
       "      <th>2015-02-16 00:00:00-08:00</th>\n",
       "      <td>3.0</td>\n",
       "      <td>1.0</td>\n",
       "      <td>NaN</td>\n",
       "      <td>4.0</td>\n",
       "    </tr>\n",
       "    <tr>\n",
       "      <th>2015-02-17 00:00:00-08:00</th>\n",
       "      <td>838.0</td>\n",
       "      <td>297.0</td>\n",
       "      <td>273.0</td>\n",
       "      <td>1408.0</td>\n",
       "    </tr>\n",
       "    <tr>\n",
       "      <th>2015-02-18 00:00:00-08:00</th>\n",
       "      <td>736.0</td>\n",
       "      <td>335.0</td>\n",
       "      <td>273.0</td>\n",
       "      <td>1344.0</td>\n",
       "    </tr>\n",
       "    <tr>\n",
       "      <th>2015-02-19 00:00:00-08:00</th>\n",
       "      <td>751.0</td>\n",
       "      <td>329.0</td>\n",
       "      <td>296.0</td>\n",
       "      <td>1376.0</td>\n",
       "    </tr>\n",
       "    <tr>\n",
       "      <th>2015-02-20 00:00:00-08:00</th>\n",
       "      <td>835.0</td>\n",
       "      <td>383.0</td>\n",
       "      <td>282.0</td>\n",
       "      <td>1500.0</td>\n",
       "    </tr>\n",
       "    <tr>\n",
       "      <th>2015-02-21 00:00:00-08:00</th>\n",
       "      <td>1049.0</td>\n",
       "      <td>278.0</td>\n",
       "      <td>230.0</td>\n",
       "      <td>1557.0</td>\n",
       "    </tr>\n",
       "    <tr>\n",
       "      <th>2015-02-22 00:00:00-08:00</th>\n",
       "      <td>2266.0</td>\n",
       "      <td>463.0</td>\n",
       "      <td>350.0</td>\n",
       "      <td>3079.0</td>\n",
       "    </tr>\n",
       "    <tr>\n",
       "      <th>2015-02-23 00:00:00-08:00</th>\n",
       "      <td>1919.0</td>\n",
       "      <td>676.0</td>\n",
       "      <td>433.0</td>\n",
       "      <td>3028.0</td>\n",
       "    </tr>\n",
       "    <tr>\n",
       "      <th>2015-02-24 00:00:00-08:00</th>\n",
       "      <td>781.0</td>\n",
       "      <td>337.0</td>\n",
       "      <td>226.0</td>\n",
       "      <td>1344.0</td>\n",
       "    </tr>\n",
       "  </tbody>\n",
       "</table>\n",
       "</div>"
      ],
      "text/plain": [
       "                          tweet_id                    total\n",
       "airline_sentiment         negative neutral positive        \n",
       "tweet_created                                              \n",
       "2015-02-16 00:00:00-08:00      3.0     1.0      NaN     4.0\n",
       "2015-02-17 00:00:00-08:00    838.0   297.0    273.0  1408.0\n",
       "2015-02-18 00:00:00-08:00    736.0   335.0    273.0  1344.0\n",
       "2015-02-19 00:00:00-08:00    751.0   329.0    296.0  1376.0\n",
       "2015-02-20 00:00:00-08:00    835.0   383.0    282.0  1500.0\n",
       "2015-02-21 00:00:00-08:00   1049.0   278.0    230.0  1557.0\n",
       "2015-02-22 00:00:00-08:00   2266.0   463.0    350.0  3079.0\n",
       "2015-02-23 00:00:00-08:00   1919.0   676.0    433.0  3028.0\n",
       "2015-02-24 00:00:00-08:00    781.0   337.0    226.0  1344.0"
      ]
     },
     "execution_count": 343,
     "metadata": {},
     "output_type": "execute_result"
    }
   ],
   "source": [
    "data.describe()\n",
    "data_summary = data.groupby('airline_sentiment').resample('1d').count()[['tweet_id']]\n",
    "data_summary = data_summary.unstack(0)\n",
    "data_summary['total'] = data_summary.sum(axis = 1)\n",
    "data_summary['tweet_id']['negative'].sum()\n",
    "\n",
    "data_summary"
   ]
  },
  {
   "cell_type": "markdown",
   "id": "8060af75",
   "metadata": {},
   "source": [
    "### Get Summary of Data"
   ]
  },
  {
   "cell_type": "markdown",
   "id": "227b7ac6",
   "metadata": {},
   "source": [
    "### Resample the data"
   ]
  },
  {
   "cell_type": "code",
   "execution_count": 344,
   "id": "0360aaf5",
   "metadata": {},
   "outputs": [
    {
     "data": {
      "text/plain": [
       "tweet_created\n",
       "2015-02-22 10:00:00-08:00     84\n",
       "2015-02-22 11:00:00-08:00     66\n",
       "2015-02-22 12:00:00-08:00    144\n",
       "2015-02-22 13:00:00-08:00    174\n",
       "2015-02-22 14:00:00-08:00    218\n",
       "2015-02-22 15:00:00-08:00    159\n",
       "2015-02-22 16:00:00-08:00    163\n",
       "2015-02-22 17:00:00-08:00    173\n",
       "2015-02-22 18:00:00-08:00    167\n",
       "2015-02-22 19:00:00-08:00    131\n",
       "2015-02-22 20:00:00-08:00    109\n",
       "2015-02-22 21:00:00-08:00     69\n",
       "2015-02-22 22:00:00-08:00     73\n",
       "2015-02-22 23:00:00-08:00     54\n",
       "2015-02-23 00:00:00-08:00     26\n",
       "2015-02-23 01:00:00-08:00     24\n",
       "2015-02-23 02:00:00-08:00     28\n",
       "2015-02-23 03:00:00-08:00     40\n",
       "2015-02-23 04:00:00-08:00     69\n",
       "2015-02-23 05:00:00-08:00     94\n",
       "2015-02-23 06:00:00-08:00     92\n",
       "2015-02-23 07:00:00-08:00    111\n",
       "2015-02-23 08:00:00-08:00    115\n",
       "2015-02-23 09:00:00-08:00    138\n",
       "2015-02-23 10:00:00-08:00    120\n",
       "2015-02-23 11:00:00-08:00    138\n",
       "2015-02-23 12:00:00-08:00    108\n",
       "2015-02-23 13:00:00-08:00    122\n",
       "2015-02-23 14:00:00-08:00     95\n",
       "2015-02-23 15:00:00-08:00     87\n",
       "2015-02-23 16:00:00-08:00     78\n",
       "2015-02-23 17:00:00-08:00     47\n",
       "2015-02-23 18:00:00-08:00     73\n",
       "2015-02-23 19:00:00-08:00     94\n",
       "2015-02-23 20:00:00-08:00     88\n",
       "2015-02-23 21:00:00-08:00     54\n",
       "2015-02-23 22:00:00-08:00     50\n",
       "2015-02-23 23:00:00-08:00     28\n",
       "2015-02-24 00:00:00-08:00     22\n",
       "2015-02-24 01:00:00-08:00     20\n",
       "2015-02-24 02:00:00-08:00     22\n",
       "2015-02-24 03:00:00-08:00     43\n",
       "2015-02-24 04:00:00-08:00     58\n",
       "2015-02-24 05:00:00-08:00     47\n",
       "2015-02-24 06:00:00-08:00     68\n",
       "2015-02-24 07:00:00-08:00     75\n",
       "2015-02-24 08:00:00-08:00     81\n",
       "2015-02-24 09:00:00-08:00    147\n",
       "2015-02-24 10:00:00-08:00    106\n",
       "2015-02-24 11:00:00-08:00     92\n",
       "Freq: H, Name: sentiment, dtype: int64"
      ]
     },
     "execution_count": 344,
     "metadata": {},
     "output_type": "execute_result"
    }
   ],
   "source": [
    "#Resample the data\n",
    "data['sentiment']=data['airline_sentiment'].map({'positive':1,'neutral':0,'negative':-1}) \n",
    "actual_positive_sentiments = data[data['sentiment']==1].resample('1h').count()\n",
    "actual_negative_sentiments = data[data['sentiment']==-1].resample('1h').count()\n",
    "actual_neutral_sentiments = data[data['sentiment']==0].resample('1h').count()\n",
    "actual_negative_sentiments['sentiment'].tail(50)"
   ]
  },
  {
   "cell_type": "markdown",
   "id": "e68aaa49",
   "metadata": {},
   "source": [
    "### Standardize the data"
   ]
  },
  {
   "cell_type": "code",
   "execution_count": 345,
   "id": "e49563c5",
   "metadata": {},
   "outputs": [],
   "source": [
    "# Standardize the data\n",
    "standard_scaler_positive_sentiment = StandardScaler()\n",
    "standard_scaler_negative_sentiment = StandardScaler()\n",
    "standard_scaler_neutral_sentiment = StandardScaler()\n",
    "\n",
    "actual_positive_sentiments[['sentiment_normalized']] = \\\n",
    "    standard_scaler_positive_sentiment.fit_transform(actual_positive_sentiments[['sentiment']])\n",
    "actual_negative_sentiments[['sentiment_normalized']] = \\\n",
    "    standard_scaler_negative_sentiment.fit_transform(actual_negative_sentiments[['sentiment']])\n",
    "actual_neutral_sentiments[['sentiment_normalized']] = \\\n",
    "    standard_scaler_neutral_sentiment.fit_transform(actual_neutral_sentiments[['sentiment']])"
   ]
  },
  {
   "cell_type": "markdown",
   "id": "bfe45aed",
   "metadata": {},
   "source": [
    "### Test for stationarity"
   ]
  },
  {
   "cell_type": "code",
   "execution_count": 346,
   "id": "fbea5182",
   "metadata": {},
   "outputs": [
    {
     "data": {
      "text/plain": [
       "(-3.6507575300419526,\n",
       " 0.004861592522539516,\n",
       " 2,\n",
       " 178,\n",
       " {'1%': -3.467631519151906,\n",
       "  '5%': -2.8779183721695567,\n",
       "  '10%': -2.575501353364474},\n",
       " 198.42304394376947)"
      ]
     },
     "execution_count": 346,
     "metadata": {},
     "output_type": "execute_result"
    }
   ],
   "source": [
    "adfuller(actual_negative_sentiments['sentiment_normalized'],maxlag=24)"
   ]
  },
  {
   "cell_type": "markdown",
   "id": "ee2e5b87",
   "metadata": {},
   "source": [
    "p-value is less than 0.05% - should imply stationarity"
   ]
  },
  {
   "cell_type": "code",
   "execution_count": 347,
   "id": "4fd3594e",
   "metadata": {},
   "outputs": [
    {
     "data": {
      "image/png": "[encoded data removed]",
      "text/plain": [
       "<Figure size 432x288 with 1 Axes>"
      ]
     },
     "metadata": {
      "needs_background": "light"
     },
     "output_type": "display_data"
    }
   ],
   "source": [
    "plot_acf(actual_negative_sentiments['sentiment'], lags=20);"
   ]
  },
  {
   "cell_type": "code",
   "execution_count": 348,
   "id": "6b8efc11",
   "metadata": {},
   "outputs": [
    {
     "data": {
      "image/png": "[encoded data removed]",
      "text/plain": [
       "<Figure size 432x288 with 1 Axes>"
      ]
     },
     "metadata": {
      "needs_background": "light"
     },
     "output_type": "display_data"
    }
   ],
   "source": [
    "plot_pacf(actual_negative_sentiments['sentiment_normalized']);"
   ]
  },
  {
   "cell_type": "code",
   "execution_count": 349,
   "id": "1c5d8d50",
   "metadata": {
    "scrolled": true
   },
   "outputs": [
    {
     "data": {
      "image/png": "[encoded data removed]",
      "text/plain": [
       "<Figure size 1008x648 with 4 Axes>"
      ]
     },
     "metadata": {
      "needs_background": "light"
     },
     "output_type": "display_data"
    }
   ],
   "source": [
    "rcParams['figure.figsize'] = (14, 9)\n",
    "the_decompose = seasonal_decompose(actual_negative_sentiments['sentiment_normalized'],model='additive',period=24);\n",
    "the_decompose.plot();"
   ]
  },
  {
   "cell_type": "markdown",
   "id": "bb06c390",
   "metadata": {},
   "source": [
    "### Plot Data"
   ]
  },
  {
   "cell_type": "code",
   "execution_count": 350,
   "id": "2319c985",
   "metadata": {},
   "outputs": [
    {
     "data": {
      "image/png": "[encoded data removed]",
      "text/plain": [
       "<Figure size 1080x432 with 1 Axes>"
      ]
     },
     "metadata": {
      "needs_background": "light"
     },
     "output_type": "display_data"
    }
   ],
   "source": [
    "start_date, end_date = data['sentiment'].index.min(), data['sentiment'].index.max()\n",
    "\n",
    "start_date, end_date = data['sentiment'].index.max(), data['sentiment'].index.max() - timedelta(days=1)\n",
    "\n",
    "plt.figure(figsize=(15,6))\n",
    "plt.title(f\"Airline Sentiments Between {datetime.strftime(start_date, '%m/%d/%Y')} and {datetime.strftime(end_date, '%m/%d/%Y')}\", fontsize=16)\n",
    "plt.ylabel('Number of tweets', fontsize=14)\n",
    "\n",
    "plt.xlim(start_date, end_date)\n",
    "#plt.ylim(0,100)\n",
    "\n",
    "plt.plot(actual_positive_sentiments['sentiment'],\n",
    "         label=\"Positive Sentiments\")\n",
    "plt.plot(actual_negative_sentiments['sentiment'],\n",
    "         label=\"Negative Sentiments\")\n",
    "#plt.plot(actual_neutral_sentiments['sentiment'],marker='o',\n",
    "#         label=\"Neutral Sentiments\")\n",
    "\n",
    "plt.legend()\n",
    "\n",
    "plt.show()"
   ]
  },
  {
   "cell_type": "markdown",
   "id": "421e5446",
   "metadata": {},
   "source": [
    "# Training"
   ]
  },
  {
   "cell_type": "markdown",
   "id": "5cd92198",
   "metadata": {},
   "source": [
    "### Generate an ARIMA model"
   ]
  },
  {
   "cell_type": "code",
   "execution_count": 351,
   "id": "d38e6280",
   "metadata": {},
   "outputs": [
    {
     "name": "stdout",
     "output_type": "stream",
     "text": [
      "Performing stepwise search to minimize aic\n",
      " ARIMA(0,1,0)(1,0,1)[24] intercept   : AIC=inf, Time=0.75 sec\n",
      " ARIMA(0,1,0)(0,0,0)[24] intercept   : AIC=230.937, Time=0.03 sec\n",
      " ARIMA(1,1,0)(1,0,0)[24] intercept   : AIC=231.438, Time=0.14 sec\n",
      " ARIMA(0,1,1)(0,0,1)[24] intercept   : AIC=231.979, Time=0.15 sec\n",
      " ARIMA(0,1,0)(0,0,0)[24]             : AIC=229.075, Time=0.01 sec\n",
      " ARIMA(0,1,0)(1,0,0)[24] intercept   : AIC=231.267, Time=0.10 sec\n",
      " ARIMA(0,1,0)(0,0,1)[24] intercept   : AIC=231.262, Time=0.09 sec\n",
      " ARIMA(1,1,0)(0,0,0)[24] intercept   : AIC=232.303, Time=0.03 sec\n",
      " ARIMA(0,1,1)(0,0,0)[24] intercept   : AIC=232.433, Time=0.04 sec\n",
      " ARIMA(1,1,1)(0,0,0)[24] intercept   : AIC=232.691, Time=0.07 sec\n",
      "\n",
      "Best model:  ARIMA(0,1,0)(0,0,0)[24]          \n",
      "Total fit time: 1.432 seconds\n"
     ]
    },
    {
     "data": {
      "text/html": [
       "<table class=\"simpletable\">\n",
       "<caption>SARIMAX Results</caption>\n",
       "<tr>\n",
       "  <th>Dep. Variable:</th>           <td>y</td>        <th>  No. Observations:  </th>    <td>181</td>  \n",
       "</tr>\n",
       "<tr>\n",
       "  <th>Model:</th>           <td>SARIMAX(0, 1, 0)</td> <th>  Log Likelihood     </th> <td>-113.537</td>\n",
       "</tr>\n",
       "<tr>\n",
       "  <th>Date:</th>            <td>Tue, 26 Jul 2022</td> <th>  AIC                </th>  <td>229.075</td>\n",
       "</tr>\n",
       "<tr>\n",
       "  <th>Time:</th>                <td>13:42:01</td>     <th>  BIC                </th>  <td>232.268</td>\n",
       "</tr>\n",
       "<tr>\n",
       "  <th>Sample:</th>                  <td>0</td>        <th>  HQIC               </th>  <td>230.369</td>\n",
       "</tr>\n",
       "<tr>\n",
       "  <th></th>                      <td> - 181</td>      <th>                     </th>     <td> </td>   \n",
       "</tr>\n",
       "<tr>\n",
       "  <th>Covariance Type:</th>        <td>opg</td>       <th>                     </th>     <td> </td>   \n",
       "</tr>\n",
       "</table>\n",
       "<table class=\"simpletable\">\n",
       "<tr>\n",
       "     <td></td>       <th>coef</th>     <th>std err</th>      <th>z</th>      <th>P>|z|</th>  <th>[0.025</th>    <th>0.975]</th>  \n",
       "</tr>\n",
       "<tr>\n",
       "  <th>sigma2</th> <td>    0.2067</td> <td>    0.014</td> <td>   14.773</td> <td> 0.000</td> <td>    0.179</td> <td>    0.234</td>\n",
       "</tr>\n",
       "</table>\n",
       "<table class=\"simpletable\">\n",
       "<tr>\n",
       "  <th>Ljung-Box (L1) (Q):</th>     <td>0.64</td> <th>  Jarque-Bera (JB):  </th> <td>66.78</td>\n",
       "</tr>\n",
       "<tr>\n",
       "  <th>Prob(Q):</th>                <td>0.42</td> <th>  Prob(JB):          </th> <td>0.00</td> \n",
       "</tr>\n",
       "<tr>\n",
       "  <th>Heteroskedasticity (H):</th> <td>3.91</td> <th>  Skew:              </th> <td>0.52</td> \n",
       "</tr>\n",
       "<tr>\n",
       "  <th>Prob(H) (two-sided):</th>    <td>0.00</td> <th>  Kurtosis:          </th> <td>5.80</td> \n",
       "</tr>\n",
       "</table><br/><br/>Warnings:<br/>[1] Covariance matrix calculated using the outer product of gradients (complex-step)."
      ],
      "text/plain": [
       "<class 'statsmodels.iolib.summary.Summary'>\n",
       "\"\"\"\n",
       "                               SARIMAX Results                                \n",
       "==============================================================================\n",
       "Dep. Variable:                      y   No. Observations:                  181\n",
       "Model:               SARIMAX(0, 1, 0)   Log Likelihood                -113.537\n",
       "Date:                Tue, 26 Jul 2022   AIC                            229.075\n",
       "Time:                        13:42:01   BIC                            232.268\n",
       "Sample:                             0   HQIC                           230.369\n",
       "                                - 181                                         \n",
       "Covariance Type:                  opg                                         \n",
       "==============================================================================\n",
       "                 coef    std err          z      P>|z|      [0.025      0.975]\n",
       "------------------------------------------------------------------------------\n",
       "sigma2         0.2067      0.014     14.773      0.000       0.179       0.234\n",
       "===================================================================================\n",
       "Ljung-Box (L1) (Q):                   0.64   Jarque-Bera (JB):                66.78\n",
       "Prob(Q):                              0.42   Prob(JB):                         0.00\n",
       "Heteroskedasticity (H):               3.91   Skew:                             0.52\n",
       "Prob(H) (two-sided):                  0.00   Kurtosis:                         5.80\n",
       "===================================================================================\n",
       "\n",
       "Warnings:\n",
       "[1] Covariance matrix calculated using the outer product of gradients (complex-step).\n",
       "\"\"\""
      ]
     },
     "execution_count": 351,
     "metadata": {},
     "output_type": "execute_result"
    }
   ],
   "source": [
    "# Search for best-fit parameters\n",
    "stepwise_fit = auto_arima(actual_negative_sentiments['sentiment_normalized'],start_p=0,start_q=0,max_p=6,max_q=6,\n",
    "                          seasonal=True,m=24,trace=True)\n",
    "stepwise_fit.summary()"
   ]
  },
  {
   "cell_type": "markdown",
   "id": "de1f2f9f",
   "metadata": {},
   "source": [
    "### Train"
   ]
  },
  {
   "cell_type": "code",
   "execution_count": 352,
   "id": "295f7374",
   "metadata": {},
   "outputs": [],
   "source": [
    "# Train \n",
    "#train_len = math.ceil(0.8*len(actual_negative_sentiments['sentiment_normalized']))\n",
    "test_len = 24\n",
    "actual_negative_sentiments_train = actual_negative_sentiments.iloc[:-test_len]\n",
    "actual_negative_sentiments_test = actual_negative_sentiments.iloc[-test_len:]\n",
    "model_ARIMA = ARIMA(actual_negative_sentiments_train['sentiment_normalized']), order=(0,1,0)\n",
    "model_ARIMA_results = model_ARIMA.fit() #fit the model"
   ]
  },
  {
   "cell_type": "markdown",
   "id": "e22ed4dd",
   "metadata": {},
   "source": [
    "### Detect Anomalies"
   ]
  },
  {
   "cell_type": "code",
   "execution_count": 353,
   "id": "e969279c",
   "metadata": {},
   "outputs": [
    {
     "ename": "ValueError",
     "evalue": "Found input variables with inconsistent numbers of samples: [156, 157]",
     "output_type": "error",
     "traceback": [
      "\u001b[0;31m---------------------------------------------------------------------------\u001b[0m",
      "\u001b[0;31mValueError\u001b[0m                                Traceback (most recent call last)",
      "Input \u001b[0;32mIn [353]\u001b[0m, in \u001b[0;36m<cell line: 3>\u001b[0;34m()\u001b[0m\n\u001b[1;32m      1\u001b[0m z_score \u001b[38;5;241m=\u001b[39m st\u001b[38;5;241m.\u001b[39mnorm\u001b[38;5;241m.\u001b[39mppf(\u001b[38;5;241m.95\u001b[39m) \u001b[38;5;66;03m#95% confidence interval\u001b[39;00m\n\u001b[1;32m      2\u001b[0m mae_scale_factor \u001b[38;5;241m=\u001b[39m \u001b[38;5;241m0.67449\u001b[39m \u001b[38;5;66;03m# MAE is 0.67449 * std\u001b[39;00m\n\u001b[0;32m----> 3\u001b[0m mae \u001b[38;5;241m=\u001b[39m \u001b[43mmedian_absolute_error\u001b[49m\u001b[43m(\u001b[49m\u001b[43mmodel_ARIMA_results\u001b[49m\u001b[38;5;241;43m.\u001b[39;49m\u001b[43mfittedvalues\u001b[49m\u001b[43m,\u001b[49m\u001b[43mactual_negative_sentiments_train\u001b[49m\u001b[43m[\u001b[49m\u001b[38;5;124;43m'\u001b[39;49m\u001b[38;5;124;43msentiment_normalized\u001b[39;49m\u001b[38;5;124;43m'\u001b[39;49m\u001b[43m]\u001b[49m\u001b[43m)\u001b[49m\n\u001b[1;32m      4\u001b[0m threshold \u001b[38;5;241m=\u001b[39m median(model_ARIMA_results\u001b[38;5;241m.\u001b[39mfittedvalues) \u001b[38;5;241m+\u001b[39m (z_score\u001b[38;5;241m/\u001b[39mmae_scale_factor)\u001b[38;5;241m*\u001b[39mmae\n\u001b[1;32m      5\u001b[0m actual_negative_sentiments_train[\u001b[38;5;124m'\u001b[39m\u001b[38;5;124manomaly\u001b[39m\u001b[38;5;124m'\u001b[39m] \u001b[38;5;241m=\u001b[39m \u001b[38;5;241m0\u001b[39m\n",
      "File \u001b[0;32m~/opt/anaconda3/lib/python3.8/site-packages/sklearn/utils/validation.py:63\u001b[0m, in \u001b[0;36m_deprecate_positional_args.<locals>._inner_deprecate_positional_args.<locals>.inner_f\u001b[0;34m(*args, **kwargs)\u001b[0m\n\u001b[1;32m     61\u001b[0m extra_args \u001b[38;5;241m=\u001b[39m \u001b[38;5;28mlen\u001b[39m(args) \u001b[38;5;241m-\u001b[39m \u001b[38;5;28mlen\u001b[39m(all_args)\n\u001b[1;32m     62\u001b[0m \u001b[38;5;28;01mif\u001b[39;00m extra_args \u001b[38;5;241m<\u001b[39m\u001b[38;5;241m=\u001b[39m \u001b[38;5;241m0\u001b[39m:\n\u001b[0;32m---> 63\u001b[0m     \u001b[38;5;28;01mreturn\u001b[39;00m \u001b[43mf\u001b[49m\u001b[43m(\u001b[49m\u001b[38;5;241;43m*\u001b[39;49m\u001b[43margs\u001b[49m\u001b[43m,\u001b[49m\u001b[43m \u001b[49m\u001b[38;5;241;43m*\u001b[39;49m\u001b[38;5;241;43m*\u001b[39;49m\u001b[43mkwargs\u001b[49m\u001b[43m)\u001b[49m\n\u001b[1;32m     65\u001b[0m \u001b[38;5;66;03m# extra_args > 0\u001b[39;00m\n\u001b[1;32m     66\u001b[0m args_msg \u001b[38;5;241m=\u001b[39m [\u001b[38;5;124m'\u001b[39m\u001b[38;5;132;01m{}\u001b[39;00m\u001b[38;5;124m=\u001b[39m\u001b[38;5;132;01m{}\u001b[39;00m\u001b[38;5;124m'\u001b[39m\u001b[38;5;241m.\u001b[39mformat(name, arg)\n\u001b[1;32m     67\u001b[0m             \u001b[38;5;28;01mfor\u001b[39;00m name, arg \u001b[38;5;129;01min\u001b[39;00m \u001b[38;5;28mzip\u001b[39m(kwonly_args[:extra_args],\n\u001b[1;32m     68\u001b[0m                                  args[\u001b[38;5;241m-\u001b[39mextra_args:])]\n",
      "File \u001b[0;32m~/opt/anaconda3/lib/python3.8/site-packages/sklearn/metrics/_regression.py:477\u001b[0m, in \u001b[0;36mmedian_absolute_error\u001b[0;34m(y_true, y_pred, multioutput, sample_weight)\u001b[0m\n\u001b[1;32m    421\u001b[0m \u001b[38;5;129m@_deprecate_positional_args\u001b[39m\n\u001b[1;32m    422\u001b[0m \u001b[38;5;28;01mdef\u001b[39;00m \u001b[38;5;21mmedian_absolute_error\u001b[39m(y_true, y_pred, \u001b[38;5;241m*\u001b[39m, multioutput\u001b[38;5;241m=\u001b[39m\u001b[38;5;124m'\u001b[39m\u001b[38;5;124muniform_average\u001b[39m\u001b[38;5;124m'\u001b[39m,\n\u001b[1;32m    423\u001b[0m                           sample_weight\u001b[38;5;241m=\u001b[39m\u001b[38;5;28;01mNone\u001b[39;00m):\n\u001b[1;32m    424\u001b[0m     \u001b[38;5;124;03m\"\"\"Median absolute error regression loss.\u001b[39;00m\n\u001b[1;32m    425\u001b[0m \n\u001b[1;32m    426\u001b[0m \u001b[38;5;124;03m    Median absolute error output is non-negative floating point. The best value\u001b[39;00m\n\u001b[0;32m   (...)\u001b[0m\n\u001b[1;32m    475\u001b[0m \u001b[38;5;124;03m    0.85\u001b[39;00m\n\u001b[1;32m    476\u001b[0m \u001b[38;5;124;03m    \"\"\"\u001b[39;00m\n\u001b[0;32m--> 477\u001b[0m     y_type, y_true, y_pred, multioutput \u001b[38;5;241m=\u001b[39m \u001b[43m_check_reg_targets\u001b[49m\u001b[43m(\u001b[49m\n\u001b[1;32m    478\u001b[0m \u001b[43m        \u001b[49m\u001b[43my_true\u001b[49m\u001b[43m,\u001b[49m\u001b[43m \u001b[49m\u001b[43my_pred\u001b[49m\u001b[43m,\u001b[49m\u001b[43m \u001b[49m\u001b[43mmultioutput\u001b[49m\u001b[43m)\u001b[49m\n\u001b[1;32m    479\u001b[0m     \u001b[38;5;28;01mif\u001b[39;00m sample_weight \u001b[38;5;129;01mis\u001b[39;00m \u001b[38;5;28;01mNone\u001b[39;00m:\n\u001b[1;32m    480\u001b[0m         output_errors \u001b[38;5;241m=\u001b[39m np\u001b[38;5;241m.\u001b[39mmedian(np\u001b[38;5;241m.\u001b[39mabs(y_pred \u001b[38;5;241m-\u001b[39m y_true), axis\u001b[38;5;241m=\u001b[39m\u001b[38;5;241m0\u001b[39m)\n",
      "File \u001b[0;32m~/opt/anaconda3/lib/python3.8/site-packages/sklearn/metrics/_regression.py:88\u001b[0m, in \u001b[0;36m_check_reg_targets\u001b[0;34m(y_true, y_pred, multioutput, dtype)\u001b[0m\n\u001b[1;32m     54\u001b[0m \u001b[38;5;28;01mdef\u001b[39;00m \u001b[38;5;21m_check_reg_targets\u001b[39m(y_true, y_pred, multioutput, dtype\u001b[38;5;241m=\u001b[39m\u001b[38;5;124m\"\u001b[39m\u001b[38;5;124mnumeric\u001b[39m\u001b[38;5;124m\"\u001b[39m):\n\u001b[1;32m     55\u001b[0m     \u001b[38;5;124;03m\"\"\"Check that y_true and y_pred belong to the same regression task.\u001b[39;00m\n\u001b[1;32m     56\u001b[0m \n\u001b[1;32m     57\u001b[0m \u001b[38;5;124;03m    Parameters\u001b[39;00m\n\u001b[0;32m   (...)\u001b[0m\n\u001b[1;32m     86\u001b[0m \u001b[38;5;124;03m        the dtype argument passed to check_array.\u001b[39;00m\n\u001b[1;32m     87\u001b[0m \u001b[38;5;124;03m    \"\"\"\u001b[39;00m\n\u001b[0;32m---> 88\u001b[0m     \u001b[43mcheck_consistent_length\u001b[49m\u001b[43m(\u001b[49m\u001b[43my_true\u001b[49m\u001b[43m,\u001b[49m\u001b[43m \u001b[49m\u001b[43my_pred\u001b[49m\u001b[43m)\u001b[49m\n\u001b[1;32m     89\u001b[0m     y_true \u001b[38;5;241m=\u001b[39m check_array(y_true, ensure_2d\u001b[38;5;241m=\u001b[39m\u001b[38;5;28;01mFalse\u001b[39;00m, dtype\u001b[38;5;241m=\u001b[39mdtype)\n\u001b[1;32m     90\u001b[0m     y_pred \u001b[38;5;241m=\u001b[39m check_array(y_pred, ensure_2d\u001b[38;5;241m=\u001b[39m\u001b[38;5;28;01mFalse\u001b[39;00m, dtype\u001b[38;5;241m=\u001b[39mdtype)\n",
      "File \u001b[0;32m~/opt/anaconda3/lib/python3.8/site-packages/sklearn/utils/validation.py:319\u001b[0m, in \u001b[0;36mcheck_consistent_length\u001b[0;34m(*arrays)\u001b[0m\n\u001b[1;32m    317\u001b[0m uniques \u001b[38;5;241m=\u001b[39m np\u001b[38;5;241m.\u001b[39munique(lengths)\n\u001b[1;32m    318\u001b[0m \u001b[38;5;28;01mif\u001b[39;00m \u001b[38;5;28mlen\u001b[39m(uniques) \u001b[38;5;241m>\u001b[39m \u001b[38;5;241m1\u001b[39m:\n\u001b[0;32m--> 319\u001b[0m     \u001b[38;5;28;01mraise\u001b[39;00m \u001b[38;5;167;01mValueError\u001b[39;00m(\u001b[38;5;124m\"\u001b[39m\u001b[38;5;124mFound input variables with inconsistent numbers of\u001b[39m\u001b[38;5;124m\"\u001b[39m\n\u001b[1;32m    320\u001b[0m                      \u001b[38;5;124m\"\u001b[39m\u001b[38;5;124m samples: \u001b[39m\u001b[38;5;132;01m%r\u001b[39;00m\u001b[38;5;124m\"\u001b[39m \u001b[38;5;241m%\u001b[39m [\u001b[38;5;28mint\u001b[39m(l) \u001b[38;5;28;01mfor\u001b[39;00m l \u001b[38;5;129;01min\u001b[39;00m lengths])\n",
      "\u001b[0;31mValueError\u001b[0m: Found input variables with inconsistent numbers of samples: [156, 157]"
     ]
    }
   ],
   "source": [
    "z_score = st.norm.ppf(.95) #95% confidence interval\n",
    "mae_scale_factor = 0.67449 # MAE is 0.67449 * std\n",
    "mae = median_absolute_error(model_ARIMA_results.fittedvalues,actual_negative_sentiments_train['sentiment_normalized'])\n",
    "threshold = median(model_ARIMA_results.fittedvalues) + (z_score/mae_scale_factor)*mae\n",
    "actual_negative_sentiments_train['anomaly'] = 0\n",
    "actual_negative_sentiments_train.loc[actual_negative_sentiments_train['sentiment_normalized'] > threshold,'anomaly']= 1\n",
    "actual_negative_sentiments_train['anomaly'].value_counts()"
   ]
  },
  {
   "cell_type": "markdown",
   "id": "24166e6d",
   "metadata": {},
   "source": [
    "### Plot Anomalies"
   ]
  },
  {
   "cell_type": "code",
   "execution_count": null,
   "id": "618dbab6",
   "metadata": {},
   "outputs": [],
   "source": [
    "start_date, end_date = actual_negative_sentiments_train.index[0], actual_negative_sentiments_train.index[-1]\n",
    "start_date, end_date = actual_negative_sentiments_train.index[-1] - timedelta(days=1), actual_negative_sentiments_train.index[-1]\n",
    "\n",
    "fitted_values_actual = pd.Series(\\\n",
    "        standard_scaler_negative_sentiment.inverse_transform(actual_negative_sentiments_train['sentiment_normalized']),\\\n",
    "        index = actual_negative_sentiments_train['sentiment_normalized'].index)\n",
    "fitted_values_predicted = pd.Series(\\\n",
    "        standard_scaler_negative_sentiment.inverse_transform(model_ARIMA_results.fittedvalues),\\\n",
    "        index = actual_negative_sentiments_train['sentiment_normalized'].index)\n",
    "\n",
    "median_value = median(fitted_values_actual)\n",
    "mean_value_actual = mean(fitted_values_actual)\n",
    "mean_value_predicted = mean(fitted_values_predicted)\n",
    "mae_error = median_absolute_error(fitted_values_predicted,fitted_values_actual)\n",
    "rms_error = rmse(fitted_values_predicted,fitted_values_actual)\n",
    "\n",
    "plt.figure(figsize=(15,6))\n",
    "plt.xlim(start_date, end_date)\n",
    "plt.plot(fitted_values_actual, label=\"Actual\")\n",
    "plt.plot(fitted_values_predicted, color='orange', label=\"Predicted\")\n",
    "plt.plot(actual_negative_sentiments_train.loc[actual_negative_sentiments_train['anomaly']==1,'sentiment'], \\\n",
    "        marker='o', linestyle='None', color='red'\n",
    "    )\n",
    "plt.axhline(median_value, linestyle='--', color='k')\n",
    "plt.legend()\n",
    "\n",
    "plt.title(f\"ARIMA Model (Train): \\n Median: {median_value}\\nMAE (Median Absolute Error): {mae_error}\" + \\\n",
    "    f\"\\nMean: {mean_value_predicted}\\n Root Mean Squared Error: {rms_error}\")"
   ]
  },
  {
   "cell_type": "markdown",
   "id": "e875b04d",
   "metadata": {},
   "source": [
    "# Testing"
   ]
  },
  {
   "cell_type": "code",
   "execution_count": null,
   "id": "73dbfd51",
   "metadata": {},
   "outputs": [],
   "source": [
    "start_date, end_date = actual_negative_sentiments_test.index[0], actual_negative_sentiments_test.index[-1]\n",
    "#start_date, end_date = actual_negative_sentiments_test.index[-1] - timedelta(days=1), actual_negative_sentiments_test.index[-1]\n",
    "\n",
    "# Run against test dataset\n",
    "model_ARIMA_results_test = model_ARIMA_results.predict(\\\n",
    "                                len(actual_negative_sentiments_train),\\\n",
    "                                len(actual_negative_sentiments_train)+test_len-1\\\n",
    "                                ,typ=\"levels\").rename('forecasted')\n",
    "\n",
    "fitted_values_actual = pd.Series(\\\n",
    "        standard_scaler_negative_sentiment.inverse_transform(actual_negative_sentiments_test['sentiment_normalized']),\\\n",
    "        index = actual_negative_sentiments_test['sentiment_normalized'].index)\n",
    "fitted_values_predicted = pd.Series(\\\n",
    "        standard_scaler_negative_sentiment.inverse_transform(model_ARIMA_results_test),\\\n",
    "        index = actual_negative_sentiments_test['sentiment_normalized'].index)\n",
    "\n",
    "median_value = median(fitted_values_actual)\n",
    "mean_value = mean(fitted_values_actual)\n",
    "mean_value_predicted = mean(fitted_values_predicted)\n",
    "mae_error = median_absolute_error(fitted_values_predicted,fitted_values_actual)\n",
    "rms_error = rmse(fitted_values_predicted,fitted_values_actual)\n",
    "\n",
    "#Plot curves\n",
    "plt.figure(figsize=(15,6))\n",
    "plt.xlim(start_date, end_date)\n",
    "plt.plot(fitted_values_actual, label=\"Actual\")\n",
    "plt.plot(fitted_values_predicted, color='orange', label=\"Predicted\")\n",
    "plt.axhline(mean_value_actual, linestyle='--', color='k')\n",
    "plt.legend()\n",
    "\n",
    "plt.title(f\"ARIMA Model (Test): \\n Median: {median_value}\\nMAE (Median Absolute Error): {mae_error}\" + \\\n",
    "    f\"\\nMean: {mean_value}\\n Root Mean Squared Error: {rms_error}\")"
   ]
  },
  {
   "cell_type": "markdown",
   "id": "067a588f",
   "metadata": {},
   "source": [
    "# Forecasting"
   ]
  },
  {
   "cell_type": "code",
   "execution_count": null,
   "id": "e00fe9dc",
   "metadata": {},
   "outputs": [],
   "source": [
    "start = len(actual_negative_sentiments['sentiment_normalized']) - 1\n",
    "end = start + (7 * 24) # 7 days in 24-hour intervals\n",
    "model_ARIMA_predictions = model_ARIMA_results.predict(start,end,typ=\"levels\").rename('forecasted')\n",
    "model_ARIMA_predictions"
   ]
  },
  {
   "cell_type": "markdown",
   "id": "a275ec15",
   "metadata": {},
   "source": [
    "### Plot Forecasted vs Actual"
   ]
  },
  {
   "cell_type": "code",
   "execution_count": null,
   "id": "73730690",
   "metadata": {},
   "outputs": [],
   "source": [
    "#start_date, end_date = actual_negative_sentiments.index[0], actual_negative_sentiments.index[-1]\n",
    "#start_date, end_date = actual_negative_sentiments.index[-1]-timedelta(days=2), \\\n",
    "#                        model_ARIMA_predictions.index[0]+timedelta(days=12)\n",
    "\n",
    "fitted_values_forecasted = pd.Series(standard_scaler_negative_sentiment.inverse_transform(model_ARIMA_predictions),\n",
    "                            index=model_ARIMA_predictions.index)\n",
    "\n",
    "plt.figure(figsize=(15,6))\n",
    "#plt.xlim(start_date, end_date)\n",
    "plt.plot(fitted_values_actual, label='Actual')\n",
    "plt.plot(fitted_values_forecasted, color='orange', label='Forecasted')\n",
    "plt.title('Forecasted vs Actual')\n",
    "plt.legend()"
   ]
  },
  {
   "cell_type": "markdown",
   "id": "d865d95f",
   "metadata": {},
   "source": [
    "# Utilities"
   ]
  },
  {
   "cell_type": "code",
   "execution_count": null,
   "id": "008284e6",
   "metadata": {},
   "outputs": [],
   "source": [
    "fitted_values_forecasted.mean()"
   ]
  },
  {
   "cell_type": "code",
   "execution_count": null,
   "id": "39181543",
   "metadata": {},
   "outputs": [],
   "source": []
  }
 ],
 "metadata": {
  "kernelspec": {
   "display_name": "Python 3 (ipykernel)",
   "language": "python",
   "name": "python3"
  },
  "language_info": {
   "codemirror_mode": {
    "name": "ipython",
    "version": 3
   },
   "file_extension": ".py",
   "mimetype": "text/x-python",
   "name": "python",
   "nbconvert_exporter": "python",
   "pygments_lexer": "ipython3",
   "version": "3.8.5"
  }
 },
 "nbformat": 4,
 "nbformat_minor": 5
}
