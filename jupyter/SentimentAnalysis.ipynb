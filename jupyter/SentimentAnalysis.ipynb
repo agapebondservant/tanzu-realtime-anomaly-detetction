{
 "cells": [
  {
   "cell_type": "markdown",
   "id": "c487cb0a-31ef-48a8-8dc4-c76f8fd5fc4c",
   "metadata": {},
   "source": [
    "## Import libraries"
   ]
  },
  {
   "cell_type": "code",
   "execution_count": 55,
   "id": "4a622b2a-1af3-4f22-a6b0-46264891db34",
   "metadata": {},
   "outputs": [
    {
     "name": "stdout",
     "output_type": "stream",
     "text": [
      "Collecting package metadata (current_repodata.json): done\n",
      "Solving environment: done\n",
      "\n",
      "# All requested packages already installed.\n",
      "\n",
      "\n",
      "Note: you may need to restart the kernel to use updated packages.\n",
      "Collecting package metadata (current_repodata.json): done\n",
      "Solving environment: done\n",
      "\n",
      "# All requested packages already installed.\n",
      "\n",
      "\n",
      "Note: you may need to restart the kernel to use updated packages.\n",
      "Collecting package metadata (current_repodata.json): done\n",
      "Solving environment: done\n",
      "\n",
      "# All requested packages already installed.\n",
      "\n",
      "\n",
      "Note: you may need to restart the kernel to use updated packages.\n"
     ]
    }
   ],
   "source": [
    "%conda upgrade matplotlib\n",
    "%conda install nbconvert\n",
    "%conda install traitlets\n",
    "\n",
    "import numpy as np\n",
    "import pandas as pd\n",
    "import seaborn as sns\n",
    "import matplotlib.pyplot as plt\n",
    "import os\n",
    "import mlflow\n",
    "import datetime\n",
    "\n",
    "np.random.seed(1)\n",
    "\n",
    "from sklearn.feature_extraction.text import CountVectorizer, TfidfVectorizer\n",
    "from sklearn.linear_model import LogisticRegression\n",
    "from sklearn.metrics import roc_auc_score, f1_score, confusion_matrix\n",
    "from sklearn.model_selection import train_test_split\n",
    "import warnings\n",
    "warnings.filterwarnings('ignore')"
   ]
  },
  {
   "cell_type": "markdown",
   "id": "1e87adda-6015-4810-aafe-c5115e3e5c1c",
   "metadata": {},
   "source": [
    "## Configure Client Environment"
   ]
  },
  {
   "cell_type": "code",
   "execution_count": 56,
   "id": "517d7403-104c-4e81-aa60-644320d08151",
   "metadata": {},
   "outputs": [
    {
     "name": "stderr",
     "output_type": "stream",
     "text": [
      "2022/04/14 20:14:46 ERROR mlflow.utils.rest_utils: API request to http://mlflow.tanzudatatap.ml/api/2.0/mlflow/runs/update failed with code 500 != 200, retrying up to 2 more times. API response body: <!DOCTYPE HTML PUBLIC \"-//W3C//DTD HTML 3.2 Final//EN\">\n",
      "<title>500 Internal Server Error</title>\n",
      "<h1>Internal Server Error</h1>\n",
      "<p>The server encountered an internal error and was unable to complete your request. Either the server is overloaded or there is an error in the application.</p>\n",
      "\n",
      "2022/04/14 20:14:49 ERROR mlflow.utils.rest_utils: API request to http://mlflow.tanzudatatap.ml/api/2.0/mlflow/runs/update failed with code 500 != 200, retrying up to 1 more times. API response body: <!DOCTYPE HTML PUBLIC \"-//W3C//DTD HTML 3.2 Final//EN\">\n",
      "<title>500 Internal Server Error</title>\n",
      "<h1>Internal Server Error</h1>\n",
      "<p>The server encountered an internal error and was unable to complete your request. Either the server is overloaded or there is an error in the application.</p>\n",
      "\n"
     ]
    },
    {
     "name": "stdout",
     "output_type": "stream",
     "text": [
      "20220414201453\n"
     ]
    }
   ],
   "source": [
    "os.environ['AWS_ACCESS_KEY_ID']='i9GMOGOmV3yZ3UAXPtXd'\n",
    "os.environ['AWS_SECRET_ACCESS_KEY']='cN7yMaosU9hi8VcQyx60BmkrOnl3bDQXsx2AOnYP'\n",
    "os.environ['AWS_DEFAULT_REGION']='us-west-2'\n",
    "os.environ['MLFLOW_S3_ENDPOINT_URL']='https://minio.tanzudatatap.ml'\n",
    "os.environ['MLFLOW_S3_IGNORE_TLS']='true'\n",
    "    \n",
    "\n",
    "mlflow.set_tracking_uri('http://mlflow.tanzudatatap.ml')\n",
    "\n",
    "# Set up experiment\n",
    "mlflow.set_experiment('sentiment-analysis-logistic-regression')\n",
    "if mlflow.active_run() is not None:\n",
    "    mlflow.end_run()\n",
    "mlflow.start_run()\n",
    "\n",
    "# Enable autologging\n",
    "mlflow.sklearn.autolog()\n",
    "\n",
    "from mlflow.tracking import MlflowClient\n",
    "client = MlflowClient()\n",
    "\n",
    "# Set artifact path\n",
    "from datetime import datetime\n",
    "artifact_path = datetime.now().strftime(\"%Y%m%d%H%M%S\")\n",
    "print(artifact_path)"
   ]
  },
  {
   "cell_type": "markdown",
   "id": "96208b8c-5a05-450d-88b0-b9749f99ddb2",
   "metadata": {},
   "source": [
    "## Data Collection: Ingest Data"
   ]
  },
  {
   "cell_type": "code",
   "execution_count": 57,
   "id": "e6bb20ea-3fd5-4f9a-953a-e1d8a24716b2",
   "metadata": {},
   "outputs": [
    {
     "data": {
      "text/html": [
       "<div>\n",
       "<style scoped>\n",
       "    .dataframe tbody tr th:only-of-type {\n",
       "        vertical-align: middle;\n",
       "    }\n",
       "\n",
       "    .dataframe tbody tr th {\n",
       "        vertical-align: top;\n",
       "    }\n",
       "\n",
       "    .dataframe thead th {\n",
       "        text-align: right;\n",
       "    }\n",
       "</style>\n",
       "<table border=\"1\" class=\"dataframe\">\n",
       "  <thead>\n",
       "    <tr style=\"text-align: right;\">\n",
       "      <th></th>\n",
       "      <th>tweet_id</th>\n",
       "      <th>airline_sentiment</th>\n",
       "      <th>airline_sentiment_confidence</th>\n",
       "      <th>negativereason</th>\n",
       "      <th>negativereason_confidence</th>\n",
       "      <th>airline</th>\n",
       "      <th>airline_sentiment_gold</th>\n",
       "      <th>name</th>\n",
       "      <th>negativereason_gold</th>\n",
       "      <th>retweet_count</th>\n",
       "      <th>text</th>\n",
       "      <th>tweet_coord</th>\n",
       "      <th>tweet_created</th>\n",
       "      <th>tweet_location</th>\n",
       "      <th>user_timezone</th>\n",
       "    </tr>\n",
       "  </thead>\n",
       "  <tbody>\n",
       "    <tr>\n",
       "      <th>0</th>\n",
       "      <td>570306133677760513</td>\n",
       "      <td>neutral</td>\n",
       "      <td>1.0000</td>\n",
       "      <td>NaN</td>\n",
       "      <td>NaN</td>\n",
       "      <td>Virgin America</td>\n",
       "      <td>NaN</td>\n",
       "      <td>cairdin</td>\n",
       "      <td>NaN</td>\n",
       "      <td>0</td>\n",
       "      <td>@VirginAmerica What @dhepburn said.</td>\n",
       "      <td>NaN</td>\n",
       "      <td>2015-02-24 11:35:52 -0800</td>\n",
       "      <td>NaN</td>\n",
       "      <td>Eastern Time (US &amp; Canada)</td>\n",
       "    </tr>\n",
       "    <tr>\n",
       "      <th>1</th>\n",
       "      <td>570301130888122368</td>\n",
       "      <td>positive</td>\n",
       "      <td>0.3486</td>\n",
       "      <td>NaN</td>\n",
       "      <td>0.0000</td>\n",
       "      <td>Virgin America</td>\n",
       "      <td>NaN</td>\n",
       "      <td>jnardino</td>\n",
       "      <td>NaN</td>\n",
       "      <td>0</td>\n",
       "      <td>@VirginAmerica plus you've added commercials t...</td>\n",
       "      <td>NaN</td>\n",
       "      <td>2015-02-24 11:15:59 -0800</td>\n",
       "      <td>NaN</td>\n",
       "      <td>Pacific Time (US &amp; Canada)</td>\n",
       "    </tr>\n",
       "    <tr>\n",
       "      <th>2</th>\n",
       "      <td>570301083672813571</td>\n",
       "      <td>neutral</td>\n",
       "      <td>0.6837</td>\n",
       "      <td>NaN</td>\n",
       "      <td>NaN</td>\n",
       "      <td>Virgin America</td>\n",
       "      <td>NaN</td>\n",
       "      <td>yvonnalynn</td>\n",
       "      <td>NaN</td>\n",
       "      <td>0</td>\n",
       "      <td>@VirginAmerica I didn't today... Must mean I n...</td>\n",
       "      <td>NaN</td>\n",
       "      <td>2015-02-24 11:15:48 -0800</td>\n",
       "      <td>Lets Play</td>\n",
       "      <td>Central Time (US &amp; Canada)</td>\n",
       "    </tr>\n",
       "    <tr>\n",
       "      <th>3</th>\n",
       "      <td>570301031407624196</td>\n",
       "      <td>negative</td>\n",
       "      <td>1.0000</td>\n",
       "      <td>Bad Flight</td>\n",
       "      <td>0.7033</td>\n",
       "      <td>Virgin America</td>\n",
       "      <td>NaN</td>\n",
       "      <td>jnardino</td>\n",
       "      <td>NaN</td>\n",
       "      <td>0</td>\n",
       "      <td>@VirginAmerica it's really aggressive to blast...</td>\n",
       "      <td>NaN</td>\n",
       "      <td>2015-02-24 11:15:36 -0800</td>\n",
       "      <td>NaN</td>\n",
       "      <td>Pacific Time (US &amp; Canada)</td>\n",
       "    </tr>\n",
       "    <tr>\n",
       "      <th>4</th>\n",
       "      <td>570300817074462722</td>\n",
       "      <td>negative</td>\n",
       "      <td>1.0000</td>\n",
       "      <td>Can't Tell</td>\n",
       "      <td>1.0000</td>\n",
       "      <td>Virgin America</td>\n",
       "      <td>NaN</td>\n",
       "      <td>jnardino</td>\n",
       "      <td>NaN</td>\n",
       "      <td>0</td>\n",
       "      <td>@VirginAmerica and it's a really big bad thing...</td>\n",
       "      <td>NaN</td>\n",
       "      <td>2015-02-24 11:14:45 -0800</td>\n",
       "      <td>NaN</td>\n",
       "      <td>Pacific Time (US &amp; Canada)</td>\n",
       "    </tr>\n",
       "  </tbody>\n",
       "</table>\n",
       "</div>"
      ],
      "text/plain": [
       "             tweet_id airline_sentiment  airline_sentiment_confidence  \\\n",
       "0  570306133677760513           neutral                        1.0000   \n",
       "1  570301130888122368          positive                        0.3486   \n",
       "2  570301083672813571           neutral                        0.6837   \n",
       "3  570301031407624196          negative                        1.0000   \n",
       "4  570300817074462722          negative                        1.0000   \n",
       "\n",
       "  negativereason  negativereason_confidence         airline  \\\n",
       "0            NaN                        NaN  Virgin America   \n",
       "1            NaN                     0.0000  Virgin America   \n",
       "2            NaN                        NaN  Virgin America   \n",
       "3     Bad Flight                     0.7033  Virgin America   \n",
       "4     Can't Tell                     1.0000  Virgin America   \n",
       "\n",
       "  airline_sentiment_gold        name negativereason_gold  retweet_count  \\\n",
       "0                    NaN     cairdin                 NaN              0   \n",
       "1                    NaN    jnardino                 NaN              0   \n",
       "2                    NaN  yvonnalynn                 NaN              0   \n",
       "3                    NaN    jnardino                 NaN              0   \n",
       "4                    NaN    jnardino                 NaN              0   \n",
       "\n",
       "                                                text tweet_coord  \\\n",
       "0                @VirginAmerica What @dhepburn said.         NaN   \n",
       "1  @VirginAmerica plus you've added commercials t...         NaN   \n",
       "2  @VirginAmerica I didn't today... Must mean I n...         NaN   \n",
       "3  @VirginAmerica it's really aggressive to blast...         NaN   \n",
       "4  @VirginAmerica and it's a really big bad thing...         NaN   \n",
       "\n",
       "               tweet_created tweet_location               user_timezone  \n",
       "0  2015-02-24 11:35:52 -0800            NaN  Eastern Time (US & Canada)  \n",
       "1  2015-02-24 11:15:59 -0800            NaN  Pacific Time (US & Canada)  \n",
       "2  2015-02-24 11:15:48 -0800      Lets Play  Central Time (US & Canada)  \n",
       "3  2015-02-24 11:15:36 -0800            NaN  Pacific Time (US & Canada)  \n",
       "4  2015-02-24 11:14:45 -0800            NaN  Pacific Time (US & Canada)  "
      ]
     },
     "execution_count": 57,
     "metadata": {},
     "output_type": "execute_result"
    }
   ],
   "source": [
    "csv = pd.read_csv('data/Tweets.csv')\n",
    "csv.head()"
   ]
  },
  {
   "cell_type": "markdown",
   "id": "79d6e2d0-2c3d-4ecf-9891-45320414efab",
   "metadata": {},
   "source": [
    "## Feature Extraction: Extract Relevant Columns"
   ]
  },
  {
   "cell_type": "code",
   "execution_count": 58,
   "id": "d9506cc1-98a8-4525-abe6-81739b580280",
   "metadata": {},
   "outputs": [
    {
     "data": {
      "text/html": [
       "<div>\n",
       "<style scoped>\n",
       "    .dataframe tbody tr th:only-of-type {\n",
       "        vertical-align: middle;\n",
       "    }\n",
       "\n",
       "    .dataframe tbody tr th {\n",
       "        vertical-align: top;\n",
       "    }\n",
       "\n",
       "    .dataframe thead th {\n",
       "        text-align: right;\n",
       "    }\n",
       "</style>\n",
       "<table border=\"1\" class=\"dataframe\">\n",
       "  <thead>\n",
       "    <tr style=\"text-align: right;\">\n",
       "      <th></th>\n",
       "      <th>airline_sentiment</th>\n",
       "      <th>text</th>\n",
       "    </tr>\n",
       "  </thead>\n",
       "  <tbody>\n",
       "    <tr>\n",
       "      <th>0</th>\n",
       "      <td>neutral</td>\n",
       "      <td>@VirginAmerica What @dhepburn said.</td>\n",
       "    </tr>\n",
       "    <tr>\n",
       "      <th>1</th>\n",
       "      <td>positive</td>\n",
       "      <td>@VirginAmerica plus you've added commercials t...</td>\n",
       "    </tr>\n",
       "    <tr>\n",
       "      <th>2</th>\n",
       "      <td>neutral</td>\n",
       "      <td>@VirginAmerica I didn't today... Must mean I n...</td>\n",
       "    </tr>\n",
       "    <tr>\n",
       "      <th>3</th>\n",
       "      <td>negative</td>\n",
       "      <td>@VirginAmerica it's really aggressive to blast...</td>\n",
       "    </tr>\n",
       "    <tr>\n",
       "      <th>4</th>\n",
       "      <td>negative</td>\n",
       "      <td>@VirginAmerica and it's a really big bad thing...</td>\n",
       "    </tr>\n",
       "  </tbody>\n",
       "</table>\n",
       "</div>"
      ],
      "text/plain": [
       "  airline_sentiment                                               text\n",
       "0           neutral                @VirginAmerica What @dhepburn said.\n",
       "1          positive  @VirginAmerica plus you've added commercials t...\n",
       "2           neutral  @VirginAmerica I didn't today... Must mean I n...\n",
       "3          negative  @VirginAmerica it's really aggressive to blast...\n",
       "4          negative  @VirginAmerica and it's a really big bad thing..."
      ]
     },
     "execution_count": 58,
     "metadata": {},
     "output_type": "execute_result"
    }
   ],
   "source": [
    "df = csv[['airline_sentiment','text']].copy()\n",
    "df.head()"
   ]
  },
  {
   "cell_type": "markdown",
   "id": "10400c5a-d1a4-435a-b5a9-d5bf41d9b1a9",
   "metadata": {},
   "source": [
    "## Visualization: Check for class imbalance"
   ]
  },
  {
   "cell_type": "code",
   "execution_count": 59,
   "id": "c99c931e-d2ff-477e-b69d-ffce03016fe0",
   "metadata": {},
   "outputs": [
    {
     "data": {
      "text/plain": [
       "<AxesSubplot:>"
      ]
     },
     "execution_count": 59,
     "metadata": {},
     "output_type": "execute_result"
    },
    {
     "data": {
      "image/png": "[encoded data removed]",
      "text/plain": [
       "<Figure size 432x288 with 1 Axes>"
      ]
     },
     "metadata": {
      "needs_background": "light"
     },
     "output_type": "display_data"
    }
   ],
   "source": [
    "df['airline_sentiment'].hist()"
   ]
  },
  {
   "cell_type": "markdown",
   "id": "b83f2ef1-9229-4c2f-91ba-985b6a81ff79",
   "metadata": {},
   "source": [
    "## Data Preparation: Apply ordinal encoding"
   ]
  },
  {
   "cell_type": "code",
   "execution_count": 60,
   "id": "e2683d84-3e81-4380-be93-ac91760daaed",
   "metadata": {},
   "outputs": [
    {
     "data": {
      "text/html": [
       "<div>\n",
       "<style scoped>\n",
       "    .dataframe tbody tr th:only-of-type {\n",
       "        vertical-align: middle;\n",
       "    }\n",
       "\n",
       "    .dataframe tbody tr th {\n",
       "        vertical-align: top;\n",
       "    }\n",
       "\n",
       "    .dataframe thead th {\n",
       "        text-align: right;\n",
       "    }\n",
       "</style>\n",
       "<table border=\"1\" class=\"dataframe\">\n",
       "  <thead>\n",
       "    <tr style=\"text-align: right;\">\n",
       "      <th></th>\n",
       "      <th>airline_sentiment</th>\n",
       "      <th>text</th>\n",
       "      <th>target</th>\n",
       "    </tr>\n",
       "  </thead>\n",
       "  <tbody>\n",
       "    <tr>\n",
       "      <th>0</th>\n",
       "      <td>neutral</td>\n",
       "      <td>@VirginAmerica What @dhepburn said.</td>\n",
       "      <td>2</td>\n",
       "    </tr>\n",
       "    <tr>\n",
       "      <th>1</th>\n",
       "      <td>positive</td>\n",
       "      <td>@VirginAmerica plus you've added commercials t...</td>\n",
       "      <td>1</td>\n",
       "    </tr>\n",
       "    <tr>\n",
       "      <th>2</th>\n",
       "      <td>neutral</td>\n",
       "      <td>@VirginAmerica I didn't today... Must mean I n...</td>\n",
       "      <td>2</td>\n",
       "    </tr>\n",
       "    <tr>\n",
       "      <th>3</th>\n",
       "      <td>negative</td>\n",
       "      <td>@VirginAmerica it's really aggressive to blast...</td>\n",
       "      <td>0</td>\n",
       "    </tr>\n",
       "    <tr>\n",
       "      <th>4</th>\n",
       "      <td>negative</td>\n",
       "      <td>@VirginAmerica and it's a really big bad thing...</td>\n",
       "      <td>0</td>\n",
       "    </tr>\n",
       "  </tbody>\n",
       "</table>\n",
       "</div>"
      ],
      "text/plain": [
       "  airline_sentiment                                               text  target\n",
       "0           neutral                @VirginAmerica What @dhepburn said.       2\n",
       "1          positive  @VirginAmerica plus you've added commercials t...       1\n",
       "2           neutral  @VirginAmerica I didn't today... Must mean I n...       2\n",
       "3          negative  @VirginAmerica it's really aggressive to blast...       0\n",
       "4          negative  @VirginAmerica and it's a really big bad thing...       0"
      ]
     },
     "execution_count": 60,
     "metadata": {},
     "output_type": "execute_result"
    }
   ],
   "source": [
    "target_map = {'positive': 1, 'negative': 0, 'neutral': 2}\n",
    "df['target'] = df['airline_sentiment'].map(target_map)\n",
    "df.head()"
   ]
  },
  {
   "cell_type": "markdown",
   "id": "b1fb3943-2236-4da5-8187-eb98a6f8cfd4",
   "metadata": {},
   "source": [
    "## Model Selection: Train-Test-Validation Split"
   ]
  },
  {
   "cell_type": "code",
   "execution_count": 61,
   "id": "22f3db4b-9cf2-4fc5-8947-487fb9f8cc2a",
   "metadata": {},
   "outputs": [],
   "source": [
    "df_train, df_test = train_test_split(df)"
   ]
  },
  {
   "cell_type": "markdown",
   "id": "b3b0921b-fe72-4019-ae64-260f9eb5a1de",
   "metadata": {},
   "source": [
    "## Vectorization: Apply tf-idf transformation"
   ]
  },
  {
   "cell_type": "code",
   "execution_count": 62,
   "id": "226a25d7-9227-4fa1-ba20-2014e4cc435c",
   "metadata": {},
   "outputs": [],
   "source": [
    "vectorizer = TfidfVectorizer(max_features=2000)\n",
    "X_train = vectorizer.fit_transform(df_train['text'])\n",
    "X_train\n",
    "X_test = vectorizer.transform(df_test['text'])\n",
    "X_test\n",
    "Y_train = df_train['target']\n",
    "Y_test = df_test['target']"
   ]
  },
  {
   "cell_type": "markdown",
   "id": "422cd103-95c3-4aba-b34b-e656c6612ba0",
   "metadata": {},
   "source": [
    "## Training: Generate Logistic Regression model"
   ]
  },
  {
   "cell_type": "code",
   "execution_count": 63,
   "id": "fed372f7-c880-4312-9e26-65c13ba99f95",
   "metadata": {},
   "outputs": [
    {
     "name": "stderr",
     "output_type": "stream",
     "text": [
      "2022/04/14 20:14:57 WARNING mlflow.sklearn: Failed to infer model signature: Expected one of (pandas.DataFrame, numpy array, dictionary of (name -> numpy.ndarray), pyspark.sql.DataFrame) but got '<class 'scipy.sparse.csr.csr_matrix'>'\n"
     ]
    }
   ],
   "source": [
    "model = LogisticRegression(max_iter=500) # TODO: try different values of C, penalty\n",
    "model.fit(X_train, Y_train)\n",
    "\n",
    "# Tag the active run\n",
    "run = mlflow.active_run()\n",
    "client.set_tag(run.info.run_id, \"region\", \"US East\")"
   ]
  },
  {
   "cell_type": "markdown",
   "id": "3a776e30-87d9-48e8-b631-932b740bb9ae",
   "metadata": {},
   "source": [
    "## Model Evaluation: Generate Metrics"
   ]
  },
  {
   "cell_type": "code",
   "execution_count": 64,
   "id": "3f9b92c8-cdf0-488a-9416-ae618ecaffe1",
   "metadata": {},
   "outputs": [
    {
     "name": "stdout",
     "output_type": "stream",
     "text": [
      "Training accuracy: 0.8548269581056467\n",
      "Test accuracy: 0.7991803278688525\n",
      "Training AUC: 0.9430937419928069\n",
      "Test AUC: 0.8954013846968852\n"
     ]
    }
   ],
   "source": [
    "train_acc = model.score(X_train, Y_train)\n",
    "test_acc = model.score(X_test, Y_test)\n",
    "train_roc_auc = roc_auc_score(Y_train, model.predict_proba(X_train),multi_class='ovo')\n",
    "test_roc_auc = roc_auc_score(Y_test, model.predict_proba(X_test),multi_class='ovo')\n",
    "print(f'Training accuracy: {train_acc}\\nTest accuracy: {test_acc}\\nTraining AUC: {train_roc_auc}\\nTest AUC: {test_roc_auc}')"
   ]
  },
  {
   "cell_type": "markdown",
   "id": "dd74a7ef-68a1-4a62-8b60-80e55875239b",
   "metadata": {},
   "source": [
    "## Model Evaluation: Generate Confusion Matrix"
   ]
  },
  {
   "cell_type": "code",
   "execution_count": 65,
   "id": "66e532b5-f0bb-4ee2-a90e-0a4fb6ee37e0",
   "metadata": {},
   "outputs": [
    {
     "data": {
      "text/plain": [
       "array([[0.93059799, 0.01658664, 0.05281536],\n",
       "       [0.24537815, 0.63865546, 0.11596639],\n",
       "       [0.40826873, 0.05813953, 0.53359173]])"
      ]
     },
     "execution_count": 65,
     "metadata": {},
     "output_type": "execute_result"
    }
   ],
   "source": [
    "train_prediction = model.predict(X_train)\n",
    "test_prediction = model.predict(X_test)\n",
    "train_cm = confusion_matrix(Y_train,train_prediction,normalize='true')\n",
    "train_cm\n",
    "test_cm = confusion_matrix(Y_test,test_prediction,normalize='true')\n",
    "test_cm"
   ]
  },
  {
   "cell_type": "code",
   "execution_count": 66,
   "id": "bab463c1-6d5b-4c93-aefc-6647103d54c9",
   "metadata": {},
   "outputs": [
    {
     "data": {
      "image/png": "[encoded data removed]",
      "text/plain": [
       "<Figure size 1440x360 with 4 Axes>"
      ]
     },
     "metadata": {
      "needs_background": "light"
     },
     "output_type": "display_data"
    }
   ],
   "source": [
    "def plot_cm(*cms):\n",
    "    classes = ['negative','positive','neutral']\n",
    "    fig, axs = plt.subplots(1, len(cms), sharex=True, figsize=(20,5)) \n",
    "    for index, cm in enumerate(cms):\n",
    "        cm_df = pd.DataFrame(cm, index=classes, columns=classes)\n",
    "        sns.heatmap(cm, ax=axs[index], annot=True, fmt='g')\n",
    "        axs[index].set_xlabel('Predicted')\n",
    "        axs[index].set_ylabel('Actual')\n",
    "    \n",
    "plot_cm(train_cm,test_cm)"
   ]
  },
  {
   "cell_type": "markdown",
   "id": "57252420-6791-4f6b-9649-8aca5d304381",
   "metadata": {},
   "source": [
    "## Artifact Storing: Save Plot"
   ]
  },
  {
   "cell_type": "code",
   "execution_count": 67,
   "id": "9c17c9fd-8641-493d-8d35-9358b1b76a4a",
   "metadata": {},
   "outputs": [
    {
     "data": {
      "text/plain": [
       "<Figure size 432x288 with 0 Axes>"
      ]
     },
     "metadata": {},
     "output_type": "display_data"
    }
   ],
   "source": [
    "plt.savefig('confusion-matrix.png')\n",
    "mlflow.log_artifact('confusion-matrix.png')"
   ]
  },
  {
   "cell_type": "markdown",
   "id": "ffec1fe0-8951-4336-95ae-ec2b0e447a6f",
   "metadata": {},
   "source": [
    "## Model Storing: Save Model, Vectorizer"
   ]
  },
  {
   "cell_type": "code",
   "execution_count": 68,
   "id": "aa22bd87-e54b-4e0f-b9b1-e1e98ba57e75",
   "metadata": {},
   "outputs": [
    {
     "data": {
      "image/png": "[encoded data removed]",
      "text/plain": [
       "<Figure size 432x288 with 1 Axes>"
      ]
     },
     "metadata": {
      "needs_background": "light"
     },
     "output_type": "display_data"
    }
   ],
   "source": [
    "model.coef_\n",
    "for index, a in enumerate(model.coef_):\n",
    "    plt.hist(model.coef_[index], bins=30)\n",
    "    \n",
    "mlflow.sklearn.log_model(model, \"sentiment-analysis-logreg-model\")\n",
    "mlflow.sklearn.log_model(vectorizer, \"sentiment-analysis-vectorizer\")"
   ]
  },
  {
   "cell_type": "markdown",
   "id": "341d818d-e1cc-4e88-949a-e0c108f0423c",
   "metadata": {},
   "source": [
    "## Data Enrichment: Generate word-to-index mapping"
   ]
  },
  {
   "cell_type": "code",
   "execution_count": 69,
   "id": "f5f1224c-73d3-44a9-87be-9f163b24b243",
   "metadata": {},
   "outputs": [
    {
     "name": "stdout",
     "output_type": "stream",
     "text": [
      "Most positive words:\n",
      "nice 1.6482231847835234\n",
      "thank 4.690761774214919\n",
      "airline 1.65123377444839\n",
      "thanks 5.043204626628911\n",
      "great 4.337274921798195\n",
      "best 2.9136999886622026\n",
      "thx 2.530012613977005\n",
      "good 2.3029960645647884\n",
      "love 3.3594244716513484\n",
      "appreciate 2.420992628608694\n",
      "helpful 1.7279144226781429\n",
      "awesome 3.3841886318003107\n",
      "cool 1.7817315331398285\n",
      "rock 1.722158514579637\n",
      "kudos 2.1697709487910783\n",
      "excellent 1.75776229613415\n",
      "amazing 3.2635938663224877\n",
      "worries 2.0509616584939456\n",
      "wonderful 1.819399200714711\n",
      "thnx 1.6446715731933963\n",
      "\n",
      "Most negative words:\n",
      "hours 2.988798915303761\n",
      "not 3.2502235535191994\n",
      "delayed 2.8551426972855363\n",
      "stuck 2.2822575453449576\n",
      "your 1.9013619619879794\n",
      "hour 2.077216195228979\n",
      "again 1.894400674030503\n",
      "cancelled 2.6534875200624954\n",
      "delay 2.4504724620460623\n",
      "nothing 2.1774451997476865\n",
      "call 1.87822207682126\n",
      "no 3.4633098316973467\n",
      "bags 1.8662337274982979\n",
      "worst 3.225045533053224\n",
      "hold 2.545408094288282\n",
      "why 2.384927174949061\n",
      "luggage 2.283305397732512\n",
      "doesn 2.1250703661405757\n",
      "lost 2.1146120463562648\n",
      "paid 1.8457872552855246\n"
     ]
    }
   ],
   "source": [
    "word_index_map = vectorizer.vocabulary_\n",
    "word_index_map\n",
    "most_positive_threshold = np.percentile(model.coef_[1],99)\n",
    "most_negative_threshold = np.percentile(model.coef_[0],99)\n",
    "\n",
    "print('Most positive words:')\n",
    "for word, index in word_index_map.items():\n",
    "    if model.coef_[1][index]>most_positive_threshold:\n",
    "        print(word, model.coef_[1][index])\n",
    "        \n",
    "print('\\nMost negative words:')\n",
    "for word, index in word_index_map.items():\n",
    "    if model.coef_[0][index]>most_negative_threshold:\n",
    "        print(word, model.coef_[0][index])"
   ]
  },
  {
   "cell_type": "markdown",
   "id": "87c89586-e1b0-4d3e-b5bd-514ea5d197cc",
   "metadata": {},
   "source": [
    "## Serve the model"
   ]
  },
  {
   "cell_type": "code",
   "execution_count": 70,
   "id": "b5f0da66-b970-4936-80dd-45be90e16f55",
   "metadata": {},
   "outputs": [],
   "source": [
    "# mlflow models serve -m my_model"
   ]
  },
  {
   "cell_type": "markdown",
   "id": "cddb29d2-d10c-46c9-a217-f55d6695e3e6",
   "metadata": {},
   "source": [
    "## Prediction: Generate scoring on sample tweets"
   ]
  },
  {
   "cell_type": "code",
   "execution_count": 71,
   "id": "b7a29f74-2195-4264-898b-38ed9144274a",
   "metadata": {},
   "outputs": [
    {
     "name": "stdout",
     "output_type": "stream",
     "text": [
      "positive\n",
      "negative\n"
     ]
    }
   ],
   "source": [
    "def predict(text):\n",
    "    #logged_vectorizer = mlflow.sklearn.load_model(model, \"sentiment-analysis-logreg-model\")\n",
    "    #logged_model = mlflow.sklearn.load_model(vectorizer, \"sentiment-analysis-vectorizer\")\n",
    "    sample = pd.Series(text)\n",
    "    transformed_sample = vectorizer.transform(sample)\n",
    "    classes = ['negative','positive','neutral']\n",
    "    return classes[model.predict(transformed_sample)[0]]\n",
    "\n",
    "print(predict('I think Virgin Airlines is nice!'))\n",
    "print(predict('Southwest sucks'))"
   ]
  },
  {
   "cell_type": "code",
   "execution_count": null,
   "id": "0ef1070e-2ecf-46be-a8f0-4326887acfeb",
   "metadata": {},
   "outputs": [],
   "source": []
  },
  {
   "cell_type": "code",
   "execution_count": null,
   "id": "d74f60aa-53e4-4496-a03c-7eecba6a42e2",
   "metadata": {},
   "outputs": [],
   "source": []
  },
  {
   "cell_type": "code",
   "execution_count": null,
   "id": "1a124190-165d-4dc7-9b76-b23983a2c68a",
   "metadata": {},
   "outputs": [],
   "source": []
  },
  {
   "cell_type": "code",
   "execution_count": null,
   "id": "c16fd89c-ea6c-48a0-a8e1-b2141d9dbe64",
   "metadata": {},
   "outputs": [],
   "source": []
  },
  {
   "cell_type": "code",
   "execution_count": null,
   "id": "a4ef5018-9ae7-421b-b6f5-ed70c6289bb2",
   "metadata": {},
   "outputs": [],
   "source": []
  },
  {
   "cell_type": "code",
   "execution_count": null,
   "id": "45fe8512-1ebe-4262-9dcc-0ddf7a7d4269",
   "metadata": {},
   "outputs": [],
   "source": []
  },
  {
   "cell_type": "code",
   "execution_count": null,
   "id": "c0749bb8-23e2-40a5-9d87-df3a3e73e0d9",
   "metadata": {},
   "outputs": [],
   "source": []
  }
 ],
 "metadata": {
  "kernelspec": {
   "display_name": "Python 3 (ipykernel)",
   "language": "python",
   "name": "python3"
  },
  "language_info": {
   "codemirror_mode": {
    "name": "ipython",
    "version": 3
   },
   "file_extension": ".py",
   "mimetype": "text/x-python",
   "name": "python",
   "nbconvert_exporter": "python",
   "pygments_lexer": "ipython3",
   "version": "3.8.5"
  }
 },
 "nbformat": 4,
 "nbformat_minor": 5
}
