{
 "cells": [
  {
   "cell_type": "code",
   "execution_count": 13,
   "id": "779e1aa7",
   "metadata": {},
   "outputs": [
    {
     "name": "stdout",
     "output_type": "stream",
     "text": [
      "Requirement already satisfied: matplotlib in /Users/oawofolu/opt/anaconda3/lib/python3.8/site-packages (3.5.1)\n",
      "Requirement already satisfied: kiwisolver>=1.0.1 in /Users/oawofolu/opt/anaconda3/lib/python3.8/site-packages (from matplotlib) (1.3.2)\n",
      "Requirement already satisfied: python-dateutil>=2.7 in /Users/oawofolu/opt/anaconda3/lib/python3.8/site-packages (from matplotlib) (2.8.2)\n",
      "Requirement already satisfied: pillow>=6.2.0 in /Users/oawofolu/opt/anaconda3/lib/python3.8/site-packages (from matplotlib) (9.0.1)\n",
      "Requirement already satisfied: cycler>=0.10 in /Users/oawofolu/opt/anaconda3/lib/python3.8/site-packages (from matplotlib) (0.11.0)\n",
      "Requirement already satisfied: pyparsing>=2.2.1 in /Users/oawofolu/opt/anaconda3/lib/python3.8/site-packages (from matplotlib) (3.0.4)\n",
      "Requirement already satisfied: packaging>=20.0 in /Users/oawofolu/opt/anaconda3/lib/python3.8/site-packages (from matplotlib) (21.3)\n",
      "Requirement already satisfied: fonttools>=4.22.0 in /Users/oawofolu/opt/anaconda3/lib/python3.8/site-packages (from matplotlib) (4.25.0)\n",
      "Requirement already satisfied: numpy>=1.17 in /Users/oawofolu/opt/anaconda3/lib/python3.8/site-packages (from matplotlib) (1.21.5)\n",
      "Requirement already satisfied: six>=1.5 in /Users/oawofolu/opt/anaconda3/lib/python3.8/site-packages (from python-dateutil>=2.7->matplotlib) (1.16.0)\n",
      "\u001b[33mWARNING: Error parsing requirements for numexpr: [Errno 2] No such file or directory: '/Users/oawofolu/opt/anaconda3/lib/python3.8/site-packages/numexpr-2.8.1.dist-info/METADATA'\u001b[0m\n",
      "\u001b[33mWARNING: Error parsing requirements for bottleneck: [Errno 2] No such file or directory: '/Users/oawofolu/opt/anaconda3/lib/python3.8/site-packages/Bottleneck-1.3.4.dist-info/METADATA'\u001b[0m\n",
      "Note: you may need to restart the kernel to use updated packages.\n",
      "Requirement already satisfied: prophet in /Users/oawofolu/opt/anaconda3/lib/python3.8/site-packages (1.1)\n",
      "Requirement already satisfied: LunarCalendar>=0.0.9 in /Users/oawofolu/opt/anaconda3/lib/python3.8/site-packages (from prophet) (0.0.9)\n",
      "Requirement already satisfied: numpy>=1.15.4 in /Users/oawofolu/opt/anaconda3/lib/python3.8/site-packages (from prophet) (1.21.5)\n",
      "Requirement already satisfied: Cython>=0.22 in /Users/oawofolu/opt/anaconda3/lib/python3.8/site-packages (from prophet) (0.29.28)\n",
      "Requirement already satisfied: matplotlib>=2.0.0 in /Users/oawofolu/opt/anaconda3/lib/python3.8/site-packages (from prophet) (3.5.1)\n",
      "Requirement already satisfied: python-dateutil>=2.8.0 in /Users/oawofolu/opt/anaconda3/lib/python3.8/site-packages (from prophet) (2.8.2)\n",
      "Requirement already satisfied: pandas>=1.0.4 in /Users/oawofolu/opt/anaconda3/lib/python3.8/site-packages (from prophet) (1.4.1)\n",
      "Requirement already satisfied: tqdm>=4.36.1 in /Users/oawofolu/opt/anaconda3/lib/python3.8/site-packages (from prophet) (4.63.0)\n",
      "Requirement already satisfied: wheel>=0.37.0 in /Users/oawofolu/opt/anaconda3/lib/python3.8/site-packages (from prophet) (0.37.1)\n",
      "Requirement already satisfied: holidays>=0.13 in /Users/oawofolu/opt/anaconda3/lib/python3.8/site-packages (from prophet) (0.14.2)\n",
      "Requirement already satisfied: convertdate>=2.1.2 in /Users/oawofolu/opt/anaconda3/lib/python3.8/site-packages (from prophet) (2.4.0)\n",
      "Requirement already satisfied: setuptools>=42 in /Users/oawofolu/opt/anaconda3/lib/python3.8/site-packages (from prophet) (61.2.0)\n",
      "Requirement already satisfied: setuptools-git>=1.2 in /Users/oawofolu/opt/anaconda3/lib/python3.8/site-packages (from prophet) (1.2)\n",
      "Requirement already satisfied: cmdstanpy>=1.0.1 in /Users/oawofolu/opt/anaconda3/lib/python3.8/site-packages (from prophet) (1.0.4)\n",
      "Requirement already satisfied: ujson in /Users/oawofolu/opt/anaconda3/lib/python3.8/site-packages (from cmdstanpy>=1.0.1->prophet) (5.1.0)\n",
      "Requirement already satisfied: pymeeus<=1,>=0.3.13 in /Users/oawofolu/opt/anaconda3/lib/python3.8/site-packages (from convertdate>=2.1.2->prophet) (0.5.11)\n",
      "Requirement already satisfied: korean-lunar-calendar in /Users/oawofolu/opt/anaconda3/lib/python3.8/site-packages (from holidays>=0.13->prophet) (0.2.1)\n",
      "Requirement already satisfied: hijri-converter in /Users/oawofolu/opt/anaconda3/lib/python3.8/site-packages (from holidays>=0.13->prophet) (2.2.4)\n",
      "Requirement already satisfied: pytz in /Users/oawofolu/opt/anaconda3/lib/python3.8/site-packages (from LunarCalendar>=0.0.9->prophet) (2021.3)\n",
      "Requirement already satisfied: ephem>=3.7.5.3 in /Users/oawofolu/opt/anaconda3/lib/python3.8/site-packages (from LunarCalendar>=0.0.9->prophet) (4.1.3)\n",
      "Requirement already satisfied: pillow>=6.2.0 in /Users/oawofolu/opt/anaconda3/lib/python3.8/site-packages (from matplotlib>=2.0.0->prophet) (9.0.1)\n",
      "Requirement already satisfied: pyparsing>=2.2.1 in /Users/oawofolu/opt/anaconda3/lib/python3.8/site-packages (from matplotlib>=2.0.0->prophet) (3.0.4)\n",
      "Requirement already satisfied: fonttools>=4.22.0 in /Users/oawofolu/opt/anaconda3/lib/python3.8/site-packages (from matplotlib>=2.0.0->prophet) (4.25.0)\n",
      "Requirement already satisfied: cycler>=0.10 in /Users/oawofolu/opt/anaconda3/lib/python3.8/site-packages (from matplotlib>=2.0.0->prophet) (0.11.0)\n",
      "Requirement already satisfied: packaging>=20.0 in /Users/oawofolu/opt/anaconda3/lib/python3.8/site-packages (from matplotlib>=2.0.0->prophet) (21.3)\n",
      "Requirement already satisfied: kiwisolver>=1.0.1 in /Users/oawofolu/opt/anaconda3/lib/python3.8/site-packages (from matplotlib>=2.0.0->prophet) (1.3.2)\n",
      "Requirement already satisfied: six>=1.5 in /Users/oawofolu/opt/anaconda3/lib/python3.8/site-packages (from python-dateutil>=2.8.0->prophet) (1.16.0)\n",
      "\u001b[33mWARNING: Error parsing requirements for numexpr: [Errno 2] No such file or directory: '/Users/oawofolu/opt/anaconda3/lib/python3.8/site-packages/numexpr-2.8.1.dist-info/METADATA'\u001b[0m\n",
      "\u001b[33mWARNING: Error parsing requirements for bottleneck: [Errno 2] No such file or directory: '/Users/oawofolu/opt/anaconda3/lib/python3.8/site-packages/Bottleneck-1.3.4.dist-info/METADATA'\u001b[0m\n",
      "Note: you may need to restart the kernel to use updated packages.\n"
     ]
    }
   ],
   "source": [
    "%pip install matplotlib\n",
    "%pip install prophet\n",
    "\n",
    "import pandas as pd\n",
    "import numpy as np\n",
    "import matplotlib.pyplot as plt\n",
    "import seaborn as sns\n",
    "import scipy as st"
   ]
  },
  {
   "cell_type": "code",
   "execution_count": 14,
   "id": "7d58fd28",
   "metadata": {},
   "outputs": [],
   "source": [
    "from scipy.stats import uniform"
   ]
  },
  {
   "cell_type": "code",
   "execution_count": 19,
   "id": "0746e4ed",
   "metadata": {},
   "outputs": [
    {
     "data": {
      "text/plain": [
       "0.5903777927789047"
      ]
     },
     "execution_count": 19,
     "metadata": {},
     "output_type": "execute_result"
    }
   ],
   "source": [
    "st.stats.norm.cdf(590, loc=502, scale=115)-(st.stats.norm.cdf(400, loc=502, scale=115))"
   ]
  },
  {
   "cell_type": "code",
   "execution_count": null,
   "id": "dd31e089",
   "metadata": {},
   "outputs": [],
   "source": [
    "result = seasonal_decompose(airline['Thousands of Passengers'], model='multiplicative')\n",
    "result.plot();"
   ]
  },
  {
   "cell_type": "code",
   "execution_count": null,
   "id": "2ae911bc",
   "metadata": {},
   "outputs": [],
   "source": [
    "import pandas as pd\n",
    "import numpy as np\n",
    "import matplotlib.pyplot as plt\n",
    "from statsmodels.tsa.seasonal import seasonal_decompose\n",
    "from pylab import rcParams\n",
    "from datetime import datetime\n",
    "rcParams['figure.figsize'] = (15,6)\n",
    "%pip install matplotlib\n",
    "%matplotlib inline"
   ]
  },
  {
   "cell_type": "code",
   "execution_count": null,
   "id": "62785c08",
   "metadata": {},
   "outputs": [],
   "source": [
    "airline['6-month-SMA'] = airline['Thousands of Passengers'].rolling(6).mean()\n",
    "airline['12-month-SMA'] = airline['Thousands of Passengers'].rolling(12).mean()\n",
    "airline['EWMA-12'] = airline['Thousands of Passengers'].ewm(span=12).mean()\n",
    "airline[['Thousands of Passengers','EWMA-12']].plot(figsize=(15,6))"
   ]
  },
  {
   "cell_type": "code",
   "execution_count": null,
   "id": "4d0c1e67",
   "metadata": {},
   "outputs": [],
   "source": [
    "from statsmodels.tsa.holtwinters import SimpleExpSmoothing"
   ]
  },
  {
   "cell_type": "code",
   "execution_count": null,
   "id": "84a89d82",
   "metadata": {},
   "outputs": [],
   "source": [
    "model = SimpleExpSmoothing(airline['Thousands of Passengers'])\n",
    "span = 12\n",
    "alpha = 2/(span+1)\n",
    "fitted = model.fit(smoothing_level=alpha, optimized=False)\n",
    "airline['SES12'] = fitted.fittedvalues.shift(-1)\n",
    "airline[['Thousands of Passengers','SES12']].plot(figsize=(12,5))"
   ]
  },
  {
   "cell_type": "code",
   "execution_count": null,
   "id": "05868c5c",
   "metadata": {},
   "outputs": [],
   "source": [
    "airline = pd.read_csv(\"../tmp/airline_passengers.csv\",index_col=\"Month\")\n",
    "airline.dropna()\n",
    "airline.index = pd.to_datetime(airline.index)\n",
    "airline.plot(figsize=(15,6))\n",
    "train_data = airline.iloc[:109]\n",
    "test_data = airline[108:]\n",
    "\n",
    "from statsmodels.tsa.holtwinters import ExponentialSmoothing"
   ]
  },
  {
   "cell_type": "code",
   "execution_count": null,
   "id": "042f7cb0",
   "metadata": {},
   "outputs": [],
   "source": [
    "fitted_model = ExponentialSmoothing(train_data['Thousands of Passengers'], \n",
    "                                    trend='mul',\n",
    "                                    seasonal='mul',\n",
    "                                    seasonal_periods=12).fit()"
   ]
  },
  {
   "cell_type": "code",
   "execution_count": null,
   "id": "e5959bbf",
   "metadata": {},
   "outputs": [],
   "source": [
    "test_predictions = fitted_model.forecast(36)\n",
    "test_predictions"
   ]
  },
  {
   "cell_type": "code",
   "execution_count": null,
   "id": "28c9bde7",
   "metadata": {},
   "outputs": [],
   "source": [
    "train_data['Thousands of Passengers'].plot(figsize=(12,5),legend=True,label=\"TRAIN\")\n",
    "test_data['Thousands of Passengers'].plot(legend=True,label=\"TEST\")\n",
    "test_predictions.plot(legend=True,label=\"PREDICT\",xlim=['1958-01-01','1961-01-01'])"
   ]
  },
  {
   "cell_type": "code",
   "execution_count": null,
   "id": "3aa4ca77",
   "metadata": {},
   "outputs": [],
   "source": [
    "from sklearn.metrics import mean_squared_error, mean_absolute_error"
   ]
  },
  {
   "cell_type": "code",
   "execution_count": null,
   "id": "5dd66a3c",
   "metadata": {},
   "outputs": [],
   "source": [
    "test_data.describe()"
   ]
  },
  {
   "cell_type": "code",
   "execution_count": null,
   "id": "e262ec8c",
   "metadata": {},
   "outputs": [],
   "source": [
    "np.sqrt(mean_squared_error(test_data, test_predictions))"
   ]
  },
  {
   "cell_type": "code",
   "execution_count": null,
   "id": "0e15548e",
   "metadata": {
    "scrolled": true
   },
   "outputs": [],
   "source": [
    "final_model = ExponentialSmoothing(airline['Thousands of Passengers'],\n",
    "                                   trend='mul',seasonal='mul',seasonal_periods=12).fit()\n",
    "final_model.fittedvalues.plot(figsize=(12,5),legend=True,label=\"PREDICTED\")\n",
    "airline['Thousands of Passengers'].plot(figsize=(15,5),legend=True,label=\"TRAIN\")\n",
    "final_model.forecast(36).plot(figsize=(15,5),legend=True,label=\"FORECASTED\")"
   ]
  },
  {
   "cell_type": "code",
   "execution_count": null,
   "id": "e06f92c4",
   "metadata": {},
   "outputs": [],
   "source": [
    "from statsmodels.tsa.statespace.tools import diff"
   ]
  },
  {
   "cell_type": "code",
   "execution_count": null,
   "id": "f0ce1891",
   "metadata": {},
   "outputs": [],
   "source": [
    "diff(airline['Thousands of Passengers'],k_diff=1)"
   ]
  },
  {
   "cell_type": "code",
   "execution_count": null,
   "id": "fd686b3b",
   "metadata": {},
   "outputs": [],
   "source": [
    "from statsmodels.tsa.stattools import acovf, acf, pacf, pacf_yw, pacf_ols"
   ]
  },
  {
   "cell_type": "code",
   "execution_count": null,
   "id": "bb5cdcbd",
   "metadata": {},
   "outputs": [],
   "source": [
    "airline = pd.read_csv(\"../tmp/airline_passengers.csv\",index_col=\"Month\")\n",
    "airline.dropna()\n",
    "airline.index = pd.to_datetime(airline.index)\n",
    "airline.index.freq = 'MS'"
   ]
  },
  {
   "cell_type": "code",
   "execution_count": null,
   "id": "1de6e064",
   "metadata": {},
   "outputs": [],
   "source": [
    "df = pd.DataFrame({'a':[13,5,11,12,9]})\n",
    "df"
   ]
  },
  {
   "cell_type": "code",
   "execution_count": null,
   "id": "e29574b2",
   "metadata": {},
   "outputs": [],
   "source": [
    "acf(df['a'])"
   ]
  },
  {
   "cell_type": "code",
   "execution_count": null,
   "id": "773921d4",
   "metadata": {},
   "outputs": [],
   "source": [
    "\n",
    "pacf_yw(df['a'],nlags=4,method='mle')"
   ]
  },
  {
   "cell_type": "code",
   "execution_count": null,
   "id": "23149866",
   "metadata": {},
   "outputs": [],
   "source": [
    "pacf_ols(df['a'],nlags=4)"
   ]
  },
  {
   "cell_type": "code",
   "execution_count": null,
   "id": "229a93c9",
   "metadata": {},
   "outputs": [],
   "source": [
    "from pandas.plotting import lag_plot"
   ]
  },
  {
   "cell_type": "code",
   "execution_count": null,
   "id": "037f75c3",
   "metadata": {},
   "outputs": [],
   "source": [
    "lag_plot(airline['Thousands of Passengers'])"
   ]
  },
  {
   "cell_type": "code",
   "execution_count": null,
   "id": "00f575fb",
   "metadata": {},
   "outputs": [],
   "source": [
    "from statsmodels.graphics.tsaplots import plot_acf, plot_pacf"
   ]
  },
  {
   "cell_type": "code",
   "execution_count": null,
   "id": "22fecb0b",
   "metadata": {
    "scrolled": true
   },
   "outputs": [],
   "source": [
    "plot_acf(airline,lags=40);"
   ]
  },
  {
   "cell_type": "code",
   "execution_count": null,
   "id": "32ab2b3d",
   "metadata": {},
   "outputs": [],
   "source": [
    "from statsmodels.tsa.stattools import adfuller"
   ]
  },
  {
   "cell_type": "code",
   "execution_count": null,
   "id": "b5edea07",
   "metadata": {},
   "outputs": [],
   "source": [
    "adfuller(airline['Thousands of Passengers'],lags=24)"
   ]
  },
  {
   "cell_type": "code",
   "execution_count": null,
   "id": "7318d8d3",
   "metadata": {},
   "outputs": [],
   "source": [
    "from statsmodels.tools.eval_measures import mse, rmse, meanabs, aic, bic"
   ]
  },
  {
   "cell_type": "code",
   "execution_count": null,
   "id": "2be6237c",
   "metadata": {},
   "outputs": [],
   "source": [
    "from statsmodels.graphics.tsaplots import month_plot, quarter_plot"
   ]
  },
  {
   "cell_type": "code",
   "execution_count": null,
   "id": "c4a5bd0e",
   "metadata": {},
   "outputs": [],
   "source": [
    "month_plot(airline['Thousands of Passengers']);"
   ]
  },
  {
   "cell_type": "code",
   "execution_count": null,
   "id": "84b6c655",
   "metadata": {},
   "outputs": [],
   "source": [
    "dfq = airline['Thousands of Passengers'].resample(rule=\"Q\").mean()\n",
    "quarter_plot(dfq);"
   ]
  },
  {
   "cell_type": "code",
   "execution_count": null,
   "id": "14776300",
   "metadata": {},
   "outputs": [],
   "source": []
  },
  {
   "cell_type": "code",
   "execution_count": null,
   "id": "b5f21a77",
   "metadata": {},
   "outputs": [],
   "source": [
    "%pip install pmdarima"
   ]
  },
  {
   "cell_type": "code",
   "execution_count": null,
   "id": "9622a867",
   "metadata": {},
   "outputs": [],
   "source": [
    "from pmdarima import auto_arima"
   ]
  },
  {
   "cell_type": "code",
   "execution_count": null,
   "id": "8e209942",
   "metadata": {},
   "outputs": [],
   "source": [
    "stepwise_fit = auto_arima(airline['Thousands of Passengers'],start_p=0,start_q=0,max_p=6,max_q=3,\n",
    "                          seasonal=True,trace=True,\n",
    "                          m=12)"
   ]
  },
  {
   "cell_type": "code",
   "execution_count": null,
   "id": "bd4d4fd5",
   "metadata": {},
   "outputs": [],
   "source": [
    "stepwise_fit.summary()"
   ]
  },
  {
   "cell_type": "code",
   "execution_count": null,
   "id": "384bf963",
   "metadata": {},
   "outputs": [],
   "source": [
    "%pip install prophet\n",
    "from prophet import Prophet"
   ]
  },
  {
   "cell_type": "code",
   "execution_count": null,
   "id": "2dd5f077",
   "metadata": {},
   "outputs": [],
   "source": [
    "df = pd.read_csv('../tmp/BeerWineLiquor.csv')"
   ]
  },
  {
   "cell_type": "code",
   "execution_count": null,
   "id": "db30f01a",
   "metadata": {},
   "outputs": [],
   "source": [
    "df.columns = ['ds','y']\n",
    "df['ds'] = pd.to_datetime(df['ds'])\n",
    "df"
   ]
  },
  {
   "cell_type": "code",
   "execution_count": null,
   "id": "2ae60474",
   "metadata": {},
   "outputs": [],
   "source": [
    "m = Prophet()\n",
    "m.fit(df)\n",
    "future = m.make_future_dataframe(periods=24,freq='MS')\n",
    "future.tail()\n",
    "forecast = m.predict(future)\n",
    "forecast"
   ]
  },
  {
   "cell_type": "code",
   "execution_count": null,
   "id": "26ea0f4c",
   "metadata": {},
   "outputs": [],
   "source": [
    "forecast.plot(x='ds',y='yhat',figsize=(12,8))\n",
    "plt.xlim('2014-01-01','2021-01-01')"
   ]
  },
  {
   "cell_type": "code",
   "execution_count": null,
   "id": "5dff2a37",
   "metadata": {},
   "outputs": [],
   "source": [
    "airline"
   ]
  },
  {
   "cell_type": "code",
   "execution_count": null,
   "id": "21ae35e9",
   "metadata": {},
   "outputs": [],
   "source": []
  }
 ],
 "metadata": {
  "kernelspec": {
   "display_name": "Python 3 (ipykernel)",
   "language": "python",
   "name": "python3"
  },
  "language_info": {
   "codemirror_mode": {
    "name": "ipython",
    "version": 3
   },
   "file_extension": ".py",
   "mimetype": "text/x-python",
   "name": "python",
   "nbconvert_exporter": "python",
   "pygments_lexer": "ipython3",
   "version": "3.8.5"
  }
 },
 "nbformat": 4,
 "nbformat_minor": 5
}
